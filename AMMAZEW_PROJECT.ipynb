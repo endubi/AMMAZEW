{
  "nbformat": 4,
  "nbformat_minor": 0,
  "metadata": {
    "colab": {
      "name": "AMMAZEW PROJECT.ipynb",
      "provenance": [],
      "collapsed_sections": [],
      "include_colab_link": true
    },
    "kernelspec": {
      "name": "python3",
      "display_name": "Python 3"
    },
    "language_info": {
      "name": "python"
    }
  },
  "cells": [
    {
      "cell_type": "markdown",
      "metadata": {
        "id": "view-in-github",
        "colab_type": "text"
      },
      "source": [
        "<a href=\"https://colab.research.google.com/github/endubi/AMMAZEW/blob/main/AMMAZEW_PROJECT.ipynb\" target=\"_parent\"><img src=\"https://colab.research.google.com/assets/colab-badge.svg\" alt=\"Open In Colab\"/></a>"
      ]
    },
    {
      "cell_type": "markdown",
      "metadata": {
        "id": "XZetyniw0sFS"
      },
      "source": [
        "# **RESEARCH ON TRAFFIC ACCIDENTS IN KENYA**"
      ]
    },
    {
      "cell_type": "markdown",
      "metadata": {
        "id": "60QN-IF0urQE"
      },
      "source": [
        "#1.1 **Introduction**"
      ]
    },
    {
      "cell_type": "markdown",
      "metadata": {
        "id": "yKEpCSazScpC"
      },
      "source": [
        "**Defining the Question**      \n",
        "Traffic accidents are one of the leading causes of death in Kenya. Our research seeks to identify ways to mitigate the problem by identifying key regions and the leading cause to traffic accidents on Kenyan roads."
      ]
    },
    {
      "cell_type": "markdown",
      "metadata": {
        "id": "1KJc_zgcrZ1p"
      },
      "source": [
        "**Defining the Metric of Success**\n",
        "\n"
      ]
    },
    {
      "cell_type": "markdown",
      "metadata": {
        "id": "y9P8fyALe3LW"
      },
      "source": [
        "This analysis requires us to come up with key insights on regions with the highest number of traffic accidents and the leading cause of traffic accidents"
      ]
    },
    {
      "cell_type": "markdown",
      "metadata": {
        "id": "vDFBDsmMTJzw"
      },
      "source": [
        "**Understanding the Context**\n"
      ]
    },
    {
      "cell_type": "markdown",
      "metadata": {
        "id": "wGAca_Dpes73"
      },
      "source": [
        "Traffic accidents are the third leading cause of death in Kenya after Malaria and HIV.According to the Kenya Police Traffic Department, there were 135,277 road accidents between 2000 and 2010. Drivers and motorcyclists, pedestrians, and vehicle defects were identified as the major causes of accidents.Passengers and pedestrians were identified as the major victims of traffic accidents"
      ]
    },
    {
      "cell_type": "markdown",
      "metadata": {
        "id": "eMo4tnD2WSqJ"
      },
      "source": [
        "**Recording the Experimental Design**"
      ]
    },
    {
      "cell_type": "markdown",
      "metadata": {
        "id": "fcDIM8qcYPfZ"
      },
      "source": [
        "Below are the steps we took to implement this solution\n",
        "\n",
        "\n",
        "1.   Business Understanding:This sheds light to the context of the research question we are trying to answer ensures we keep the focus during the data analysis so that we meet the intended objectives\n",
        "2.   Reading the data: Read the data with the aim to understand the content in our dataset\n",
        "3. Checking our data: We perfomed this step so that we could get details about our dataset like number of rows and columns and null values\n",
        "4. Data cleaning: We performed the data cleaning and preparation to make our data ready for analysis\n",
        "5. Challenged the solution\n",
        "\n"
      ]
    },
    {
      "cell_type": "markdown",
      "metadata": {
        "id": "ESdabnORc_4f"
      },
      "source": [
        "**Data Relevance**:\n",
        "The source of our data is [KenyaOpenData](https://www.opendata.go.ke/datasets/KenyaOpenData::2011-traffic-incidences-from-desinventar/about) and was collected in 2011\n",
        "\n",
        "\n",
        "\n",
        "\n"
      ]
    },
    {
      "cell_type": "markdown",
      "metadata": {
        "id": "NmKXpE2J9HAz"
      },
      "source": [
        "#**1.2 Importing our libraries**"
      ]
    },
    {
      "cell_type": "code",
      "metadata": {
        "id": "_RjQG7czv-7K"
      },
      "source": [
        "import pandas as pd\n",
        "import numpy as np"
      ],
      "execution_count": null,
      "outputs": []
    },
    {
      "cell_type": "markdown",
      "metadata": {
        "id": "BzSHfCKlvib2"
      },
      "source": [
        "#**1.3 Reading the Dataset from our CSV file**"
      ]
    },
    {
      "cell_type": "markdown",
      "metadata": {
        "id": "reA2KJb6O6X2"
      },
      "source": [
        "This dataset contains traffic accidents which happened in the year 2011\n",
        "\n",
        "Dataset link for download or access: [is avalable here](https://www.opendata.go.ke/datasets/KenyaOpenData::2011-traffic-incidences-from-desinventar/about)\n"
      ]
    },
    {
      "cell_type": "code",
      "metadata": {
        "id": "3DyzRjVYuqlN"
      },
      "source": [
        "# Our document is in csv formart\n",
        "traffic=pd.read_csv(\"/content/2011_Traffic_Incidences_From_Desinventar.csv\",skiprows=[0])"
      ],
      "execution_count": null,
      "outputs": []
    },
    {
      "cell_type": "code",
      "metadata": {
        "colab": {
          "base_uri": "https://localhost:8080/",
          "height": 555
        },
        "id": "aGDDjrsmHv_K",
        "outputId": "dc7430de-eef9-4e9f-d4e3-5047528b5a88"
      },
      "source": [
        "# Previewed the first 5 rows of our dataset \n",
        "traffic.head()"
      ],
      "execution_count": null,
      "outputs": [
        {
          "output_type": "execute_result",
          "data": {
            "text/html": [
              "<div>\n",
              "<style scoped>\n",
              "    .dataframe tbody tr th:only-of-type {\n",
              "        vertical-align: middle;\n",
              "    }\n",
              "\n",
              "    .dataframe tbody tr th {\n",
              "        vertical-align: top;\n",
              "    }\n",
              "\n",
              "    .dataframe thead th {\n",
              "        text-align: right;\n",
              "    }\n",
              "</style>\n",
              "<table border=\"1\" class=\"dataframe\">\n",
              "  <thead>\n",
              "    <tr style=\"text-align: right;\">\n",
              "      <th></th>\n",
              "      <th>Serial</th>\n",
              "      <th>Event</th>\n",
              "      <th>Code County</th>\n",
              "      <th>County</th>\n",
              "      <th>Code District</th>\n",
              "      <th>District</th>\n",
              "      <th>Code Division</th>\n",
              "      <th>Division</th>\n",
              "      <th>Date (YMD)</th>\n",
              "      <th>Comments</th>\n",
              "      <th>Cause</th>\n",
              "      <th>Description of Cause</th>\n",
              "      <th>Source</th>\n",
              "      <th>Magnitude</th>\n",
              "      <th>GLIDEnumber</th>\n",
              "      <th>Other sectors</th>\n",
              "      <th>DataCards</th>\n",
              "      <th>Deaths</th>\n",
              "      <th>Injured</th>\n",
              "      <th>Missing</th>\n",
              "      <th>Houses Destroyed</th>\n",
              "      <th>Houses Damaged</th>\n",
              "      <th>Victims</th>\n",
              "      <th>Affected</th>\n",
              "      <th>Relocated</th>\n",
              "      <th>Evacuated</th>\n",
              "      <th>Losses $USD</th>\n",
              "      <th>Losses $Local</th>\n",
              "      <th>Education centers</th>\n",
              "      <th>Hospitals</th>\n",
              "      <th>Damages in crops Ha.</th>\n",
              "      <th>Lost Cattle</th>\n",
              "    </tr>\n",
              "  </thead>\n",
              "  <tbody>\n",
              "    <tr>\n",
              "      <th>0</th>\n",
              "      <td>11</td>\n",
              "      <td>TRAFFIC ACCIDENT</td>\n",
              "      <td>13</td>\n",
              "      <td>KIAMBU</td>\n",
              "      <td>1301.0</td>\n",
              "      <td>KIAMBU</td>\n",
              "      <td>130104.0</td>\n",
              "      <td>LARI</td>\n",
              "      <td>11/09/2011 08:00:00 AM +0000</td>\n",
              "      <td>NaN</td>\n",
              "      <td>Error</td>\n",
              "      <td>Pedestrian crossing road</td>\n",
              "      <td>KPR</td>\n",
              "      <td>NaN</td>\n",
              "      <td>NaN</td>\n",
              "      <td>car damaged</td>\n",
              "      <td>1</td>\n",
              "      <td>1</td>\n",
              "      <td>0</td>\n",
              "      <td>0</td>\n",
              "      <td>0</td>\n",
              "      <td>0</td>\n",
              "      <td>0</td>\n",
              "      <td>0</td>\n",
              "      <td>0</td>\n",
              "      <td>0</td>\n",
              "      <td>0</td>\n",
              "      <td>0</td>\n",
              "      <td>0</td>\n",
              "      <td>0</td>\n",
              "      <td>0</td>\n",
              "      <td>0</td>\n",
              "    </tr>\n",
              "    <tr>\n",
              "      <th>1</th>\n",
              "      <td>29</td>\n",
              "      <td>TRAFFIC ACCIDENT</td>\n",
              "      <td>30</td>\n",
              "      <td>NAIROBI</td>\n",
              "      <td>3001.0</td>\n",
              "      <td>NAIROBI</td>\n",
              "      <td>300106.0</td>\n",
              "      <td>MAKADARA</td>\n",
              "      <td>01/01/2011 08:00:00 AM +0000</td>\n",
              "      <td>NaN</td>\n",
              "      <td>NaN</td>\n",
              "      <td>Hit and run</td>\n",
              "      <td>KPR</td>\n",
              "      <td>NaN</td>\n",
              "      <td>NaN</td>\n",
              "      <td>NaN</td>\n",
              "      <td>1</td>\n",
              "      <td>1</td>\n",
              "      <td>0</td>\n",
              "      <td>0</td>\n",
              "      <td>0</td>\n",
              "      <td>0</td>\n",
              "      <td>0</td>\n",
              "      <td>0</td>\n",
              "      <td>0</td>\n",
              "      <td>0</td>\n",
              "      <td>0</td>\n",
              "      <td>0</td>\n",
              "      <td>0</td>\n",
              "      <td>0</td>\n",
              "      <td>0</td>\n",
              "      <td>0</td>\n",
              "    </tr>\n",
              "    <tr>\n",
              "      <th>2</th>\n",
              "      <td>35</td>\n",
              "      <td>TRAFFIC ACCIDENT</td>\n",
              "      <td>12</td>\n",
              "      <td>KERICHO</td>\n",
              "      <td>1203.0</td>\n",
              "      <td>BURET</td>\n",
              "      <td>120303.0</td>\n",
              "      <td>KONOIN</td>\n",
              "      <td>01/01/2011 08:00:00 AM +0000</td>\n",
              "      <td>NaN</td>\n",
              "      <td>Other cause</td>\n",
              "      <td>Driver lost control of the vehicle.</td>\n",
              "      <td>KPR</td>\n",
              "      <td>NaN</td>\n",
              "      <td>NaN</td>\n",
              "      <td>The motor vehicle front bumper and windscreen ...</td>\n",
              "      <td>1</td>\n",
              "      <td>0</td>\n",
              "      <td>14</td>\n",
              "      <td>0</td>\n",
              "      <td>0</td>\n",
              "      <td>0</td>\n",
              "      <td>0</td>\n",
              "      <td>0</td>\n",
              "      <td>0</td>\n",
              "      <td>0</td>\n",
              "      <td>0</td>\n",
              "      <td>0</td>\n",
              "      <td>0</td>\n",
              "      <td>0</td>\n",
              "      <td>0</td>\n",
              "      <td>0</td>\n",
              "    </tr>\n",
              "    <tr>\n",
              "      <th>3</th>\n",
              "      <td>20</td>\n",
              "      <td>TRAFFIC ACCIDENT</td>\n",
              "      <td>23</td>\n",
              "      <td>MAKUENI</td>\n",
              "      <td>2305.0</td>\n",
              "      <td>MAKUENI</td>\n",
              "      <td>230504.0</td>\n",
              "      <td>KASIKEU</td>\n",
              "      <td>01/30/2011 08:00:00 AM +0000</td>\n",
              "      <td>NaN</td>\n",
              "      <td>Negligence</td>\n",
              "      <td>Recklessness</td>\n",
              "      <td>NaN</td>\n",
              "      <td>NaN</td>\n",
              "      <td>NaN</td>\n",
              "      <td>Minivan and Leyland lorry damaged</td>\n",
              "      <td>1</td>\n",
              "      <td>0</td>\n",
              "      <td>1</td>\n",
              "      <td>0</td>\n",
              "      <td>0</td>\n",
              "      <td>0</td>\n",
              "      <td>0</td>\n",
              "      <td>0</td>\n",
              "      <td>0</td>\n",
              "      <td>0</td>\n",
              "      <td>0</td>\n",
              "      <td>0</td>\n",
              "      <td>0</td>\n",
              "      <td>0</td>\n",
              "      <td>0</td>\n",
              "      <td>0</td>\n",
              "    </tr>\n",
              "    <tr>\n",
              "      <th>4</th>\n",
              "      <td>36</td>\n",
              "      <td>TRAFFIC ACCIDENT</td>\n",
              "      <td>20</td>\n",
              "      <td>LAIKIPIA</td>\n",
              "      <td>2008.0</td>\n",
              "      <td>LAIKIPIA WEST</td>\n",
              "      <td>200801.0</td>\n",
              "      <td>CENTRAL LAIKIPIA</td>\n",
              "      <td>01/01/2011 08:00:00 AM +0000</td>\n",
              "      <td>NaN</td>\n",
              "      <td>Error</td>\n",
              "      <td>Pedal cyclist was knocked down.</td>\n",
              "      <td>KPR</td>\n",
              "      <td>NaN</td>\n",
              "      <td>NaN</td>\n",
              "      <td>NaN</td>\n",
              "      <td>1</td>\n",
              "      <td>1</td>\n",
              "      <td>0</td>\n",
              "      <td>0</td>\n",
              "      <td>0</td>\n",
              "      <td>0</td>\n",
              "      <td>0</td>\n",
              "      <td>0</td>\n",
              "      <td>0</td>\n",
              "      <td>0</td>\n",
              "      <td>0</td>\n",
              "      <td>0</td>\n",
              "      <td>0</td>\n",
              "      <td>0</td>\n",
              "      <td>0</td>\n",
              "      <td>0</td>\n",
              "    </tr>\n",
              "  </tbody>\n",
              "</table>\n",
              "</div>"
            ],
            "text/plain": [
              "   Serial             Event  ...  Damages in crops Ha. Lost Cattle\n",
              "0      11  TRAFFIC ACCIDENT  ...                     0           0\n",
              "1      29  TRAFFIC ACCIDENT  ...                     0           0\n",
              "2      35  TRAFFIC ACCIDENT  ...                     0           0\n",
              "3      20  TRAFFIC ACCIDENT  ...                     0           0\n",
              "4      36  TRAFFIC ACCIDENT  ...                     0           0\n",
              "\n",
              "[5 rows x 32 columns]"
            ]
          },
          "metadata": {},
          "execution_count": 3
        }
      ]
    },
    {
      "cell_type": "code",
      "metadata": {
        "colab": {
          "base_uri": "https://localhost:8080/",
          "height": 643
        },
        "id": "uaQdInhBH-S_",
        "outputId": "f4a60456-48e3-4203-c11b-63375a6c9706"
      },
      "source": [
        "# Previewed the last 5 rows in our dataset\n",
        "traffic.tail()"
      ],
      "execution_count": null,
      "outputs": [
        {
          "output_type": "execute_result",
          "data": {
            "text/html": [
              "<div>\n",
              "<style scoped>\n",
              "    .dataframe tbody tr th:only-of-type {\n",
              "        vertical-align: middle;\n",
              "    }\n",
              "\n",
              "    .dataframe tbody tr th {\n",
              "        vertical-align: top;\n",
              "    }\n",
              "\n",
              "    .dataframe thead th {\n",
              "        text-align: right;\n",
              "    }\n",
              "</style>\n",
              "<table border=\"1\" class=\"dataframe\">\n",
              "  <thead>\n",
              "    <tr style=\"text-align: right;\">\n",
              "      <th></th>\n",
              "      <th>Serial</th>\n",
              "      <th>Event</th>\n",
              "      <th>Code County</th>\n",
              "      <th>County</th>\n",
              "      <th>Code District</th>\n",
              "      <th>District</th>\n",
              "      <th>Code Division</th>\n",
              "      <th>Division</th>\n",
              "      <th>Date (YMD)</th>\n",
              "      <th>Comments</th>\n",
              "      <th>Cause</th>\n",
              "      <th>Description of Cause</th>\n",
              "      <th>Source</th>\n",
              "      <th>Magnitude</th>\n",
              "      <th>GLIDEnumber</th>\n",
              "      <th>Other sectors</th>\n",
              "      <th>DataCards</th>\n",
              "      <th>Deaths</th>\n",
              "      <th>Injured</th>\n",
              "      <th>Missing</th>\n",
              "      <th>Houses Destroyed</th>\n",
              "      <th>Houses Damaged</th>\n",
              "      <th>Victims</th>\n",
              "      <th>Affected</th>\n",
              "      <th>Relocated</th>\n",
              "      <th>Evacuated</th>\n",
              "      <th>Losses $USD</th>\n",
              "      <th>Losses $Local</th>\n",
              "      <th>Education centers</th>\n",
              "      <th>Hospitals</th>\n",
              "      <th>Damages in crops Ha.</th>\n",
              "      <th>Lost Cattle</th>\n",
              "    </tr>\n",
              "  </thead>\n",
              "  <tbody>\n",
              "    <tr>\n",
              "      <th>1349</th>\n",
              "      <td>2570</td>\n",
              "      <td>TRAFFIC ACCIDENT</td>\n",
              "      <td>25</td>\n",
              "      <td>MARSABIT</td>\n",
              "      <td>2506.0</td>\n",
              "      <td>MARSABIT</td>\n",
              "      <td>250606.0</td>\n",
              "      <td>NORTH HORR</td>\n",
              "      <td>12/21/2011 08:00:00 AM +0000</td>\n",
              "      <td>M/VEHICLE LOST CONTROL AND OVERTURNED KILLING ...</td>\n",
              "      <td>Error</td>\n",
              "      <td>M/VEHICLE LOST CONTROL</td>\n",
              "      <td>NaN</td>\n",
              "      <td>NaN</td>\n",
              "      <td>NaN</td>\n",
              "      <td>NaN</td>\n",
              "      <td>1</td>\n",
              "      <td>2</td>\n",
              "      <td>8</td>\n",
              "      <td>0</td>\n",
              "      <td>0</td>\n",
              "      <td>0</td>\n",
              "      <td>0</td>\n",
              "      <td>0</td>\n",
              "      <td>0</td>\n",
              "      <td>0</td>\n",
              "      <td>0</td>\n",
              "      <td>0</td>\n",
              "      <td>0</td>\n",
              "      <td>0</td>\n",
              "      <td>0</td>\n",
              "      <td>0</td>\n",
              "    </tr>\n",
              "    <tr>\n",
              "      <th>1350</th>\n",
              "      <td>2575</td>\n",
              "      <td>TRAFFIC ACCIDENT</td>\n",
              "      <td>34</td>\n",
              "      <td>NYAMIRA</td>\n",
              "      <td>3408.0</td>\n",
              "      <td>NYAMIRA</td>\n",
              "      <td>340803.0</td>\n",
              "      <td>MANGA</td>\n",
              "      <td>12/21/2011 08:00:00 AM +0000</td>\n",
              "      <td>M/VEHICLE KNOCKED DOWN A PEDESTRIAN KILLING HE...</td>\n",
              "      <td>Error</td>\n",
              "      <td>MOTOR VEHICLE KNOCKED DOWN A PEDESTRIAN</td>\n",
              "      <td>KPR</td>\n",
              "      <td>NaN</td>\n",
              "      <td>NaN</td>\n",
              "      <td>NaN</td>\n",
              "      <td>1</td>\n",
              "      <td>1</td>\n",
              "      <td>0</td>\n",
              "      <td>0</td>\n",
              "      <td>0</td>\n",
              "      <td>0</td>\n",
              "      <td>0</td>\n",
              "      <td>0</td>\n",
              "      <td>0</td>\n",
              "      <td>0</td>\n",
              "      <td>0</td>\n",
              "      <td>0</td>\n",
              "      <td>0</td>\n",
              "      <td>0</td>\n",
              "      <td>0</td>\n",
              "      <td>0</td>\n",
              "    </tr>\n",
              "    <tr>\n",
              "      <th>1351</th>\n",
              "      <td>2577</td>\n",
              "      <td>TRAFFIC ACCIDENT</td>\n",
              "      <td>16</td>\n",
              "      <td>KISII</td>\n",
              "      <td>1602.0</td>\n",
              "      <td>CENTRAL KISII</td>\n",
              "      <td>160202.0</td>\n",
              "      <td>KISII TOWNSHIP</td>\n",
              "      <td>12/21/2011 08:00:00 AM +0000</td>\n",
              "      <td>M/VEHICLE KNOCKED DOWN A PEDESTRIAN KILLING HI...</td>\n",
              "      <td>Error</td>\n",
              "      <td>MOTOR VEHICLE KNOCKED DOWN A PEDESTRIAN</td>\n",
              "      <td>KPR</td>\n",
              "      <td>NaN</td>\n",
              "      <td>NaN</td>\n",
              "      <td>NaN</td>\n",
              "      <td>1</td>\n",
              "      <td>1</td>\n",
              "      <td>0</td>\n",
              "      <td>0</td>\n",
              "      <td>0</td>\n",
              "      <td>0</td>\n",
              "      <td>0</td>\n",
              "      <td>0</td>\n",
              "      <td>0</td>\n",
              "      <td>0</td>\n",
              "      <td>0</td>\n",
              "      <td>0</td>\n",
              "      <td>0</td>\n",
              "      <td>0</td>\n",
              "      <td>0</td>\n",
              "      <td>0</td>\n",
              "    </tr>\n",
              "    <tr>\n",
              "      <th>1352</th>\n",
              "      <td>2578</td>\n",
              "      <td>TRAFFIC ACCIDENT</td>\n",
              "      <td>12</td>\n",
              "      <td>KERICHO</td>\n",
              "      <td>1203.0</td>\n",
              "      <td>BURET</td>\n",
              "      <td>120303.0</td>\n",
              "      <td>KONOIN</td>\n",
              "      <td>12/21/2011 08:00:00 AM +0000</td>\n",
              "      <td>M/VEHICLE KNOCKED DOWN A PEDESTRIAN KILLING HIM</td>\n",
              "      <td>Error</td>\n",
              "      <td>NaN</td>\n",
              "      <td>KPR</td>\n",
              "      <td>NaN</td>\n",
              "      <td>NaN</td>\n",
              "      <td>NaN</td>\n",
              "      <td>1</td>\n",
              "      <td>1</td>\n",
              "      <td>0</td>\n",
              "      <td>0</td>\n",
              "      <td>0</td>\n",
              "      <td>0</td>\n",
              "      <td>0</td>\n",
              "      <td>0</td>\n",
              "      <td>0</td>\n",
              "      <td>0</td>\n",
              "      <td>0</td>\n",
              "      <td>0</td>\n",
              "      <td>0</td>\n",
              "      <td>0</td>\n",
              "      <td>0</td>\n",
              "      <td>0</td>\n",
              "    </tr>\n",
              "    <tr>\n",
              "      <th>1353</th>\n",
              "      <td>2579</td>\n",
              "      <td>TRAFFIC ACCIDENT</td>\n",
              "      <td>31</td>\n",
              "      <td>NAKURU</td>\n",
              "      <td>3110.0</td>\n",
              "      <td>NAKURU</td>\n",
              "      <td>311001.0</td>\n",
              "      <td>BAHATI</td>\n",
              "      <td>12/21/2011 08:00:00 AM +0000</td>\n",
              "      <td>A M/VEHICLE HIT A TREE WHILE NEGOTIATING A CON...</td>\n",
              "      <td>Error</td>\n",
              "      <td>A LORRY DRIVER HIT A  TREE</td>\n",
              "      <td>NaN</td>\n",
              "      <td>NaN</td>\n",
              "      <td>NaN</td>\n",
              "      <td>NaN</td>\n",
              "      <td>1</td>\n",
              "      <td>1</td>\n",
              "      <td>0</td>\n",
              "      <td>0</td>\n",
              "      <td>0</td>\n",
              "      <td>0</td>\n",
              "      <td>0</td>\n",
              "      <td>0</td>\n",
              "      <td>0</td>\n",
              "      <td>0</td>\n",
              "      <td>0</td>\n",
              "      <td>0</td>\n",
              "      <td>0</td>\n",
              "      <td>0</td>\n",
              "      <td>0</td>\n",
              "      <td>0</td>\n",
              "    </tr>\n",
              "  </tbody>\n",
              "</table>\n",
              "</div>"
            ],
            "text/plain": [
              "      Serial             Event  ...  Damages in crops Ha. Lost Cattle\n",
              "1349    2570  TRAFFIC ACCIDENT  ...                     0           0\n",
              "1350    2575  TRAFFIC ACCIDENT  ...                     0           0\n",
              "1351    2577  TRAFFIC ACCIDENT  ...                     0           0\n",
              "1352    2578  TRAFFIC ACCIDENT  ...                     0           0\n",
              "1353    2579  TRAFFIC ACCIDENT  ...                     0           0\n",
              "\n",
              "[5 rows x 32 columns]"
            ]
          },
          "metadata": {},
          "execution_count": 4
        }
      ]
    },
    {
      "cell_type": "markdown",
      "metadata": {
        "id": "moQPz-PN1ArP"
      },
      "source": [
        "#**Accessing Information about the Dataset**"
      ]
    },
    {
      "cell_type": "code",
      "metadata": {
        "colab": {
          "base_uri": "https://localhost:8080/"
        },
        "id": "vvMr9WvnyNrf",
        "outputId": "4328a607-b9a5-497a-d6cb-baa905db120a"
      },
      "source": [
        "# We will look at the shape of our dataset\n",
        "traffic.shape"
      ],
      "execution_count": null,
      "outputs": [
        {
          "output_type": "execute_result",
          "data": {
            "text/plain": [
              "(1354, 32)"
            ]
          },
          "metadata": {},
          "execution_count": 5
        }
      ]
    },
    {
      "cell_type": "markdown",
      "metadata": {
        "id": "Czxqimw8ViDf"
      },
      "source": [
        "We have 1354 rows and 32 columns "
      ]
    },
    {
      "cell_type": "code",
      "metadata": {
        "colab": {
          "base_uri": "https://localhost:8080/"
        },
        "id": "8y74yt5JyqdN",
        "outputId": "565a53e5-033f-4d57-d3b2-8f911928ea66"
      },
      "source": [
        "# Let's check the dataset information\n",
        "traffic.info()"
      ],
      "execution_count": null,
      "outputs": [
        {
          "output_type": "stream",
          "name": "stdout",
          "text": [
            "<class 'pandas.core.frame.DataFrame'>\n",
            "RangeIndex: 1354 entries, 0 to 1353\n",
            "Data columns (total 32 columns):\n",
            " #   Column                Non-Null Count  Dtype  \n",
            "---  ------                --------------  -----  \n",
            " 0   Serial                1354 non-null   int64  \n",
            " 1   Event                 1354 non-null   object \n",
            " 2   Code County           1354 non-null   int64  \n",
            " 3   County                1354 non-null   object \n",
            " 4   Code District         1346 non-null   float64\n",
            " 5   District              1346 non-null   object \n",
            " 6   Code Division         1188 non-null   float64\n",
            " 7   Division              1188 non-null   object \n",
            " 8   Date (YMD)            1354 non-null   object \n",
            " 9   Comments              132 non-null    object \n",
            " 10  Cause                 1333 non-null   object \n",
            " 11  Description of Cause  1249 non-null   object \n",
            " 12  Source                1309 non-null   object \n",
            " 13  Magnitude             0 non-null      float64\n",
            " 14  GLIDEnumber           0 non-null      float64\n",
            " 15  Other sectors         323 non-null    object \n",
            " 16  DataCards             1354 non-null   int64  \n",
            " 17  Deaths                1354 non-null   int64  \n",
            " 18  Injured               1354 non-null   int64  \n",
            " 19  Missing               1354 non-null   int64  \n",
            " 20  Houses Destroyed      1354 non-null   int64  \n",
            " 21  Houses Damaged        1354 non-null   int64  \n",
            " 22  Victims               1354 non-null   int64  \n",
            " 23  Affected              1354 non-null   int64  \n",
            " 24  Relocated             1354 non-null   int64  \n",
            " 25  Evacuated             1354 non-null   int64  \n",
            " 26  Losses $USD           1354 non-null   int64  \n",
            " 27  Losses $Local         1354 non-null   int64  \n",
            " 28  Education centers     1354 non-null   int64  \n",
            " 29  Hospitals             1354 non-null   int64  \n",
            " 30  Damages in crops Ha.  1354 non-null   int64  \n",
            " 31  Lost Cattle           1354 non-null   int64  \n",
            "dtypes: float64(4), int64(18), object(10)\n",
            "memory usage: 338.6+ KB\n"
          ]
        }
      ]
    },
    {
      "cell_type": "code",
      "metadata": {
        "colab": {
          "base_uri": "https://localhost:8080/"
        },
        "id": "t5ZaGSg7zBqx",
        "outputId": "cf2ad3a0-ce39-480f-df81-6b7a3387a38a"
      },
      "source": [
        "# Let's identify number of missing values in each column of our dataset\n",
        "traffic.isnull().sum()"
      ],
      "execution_count": null,
      "outputs": [
        {
          "output_type": "execute_result",
          "data": {
            "text/plain": [
              "Serial                     0\n",
              "Event                      0\n",
              "Code County                0\n",
              "County                     0\n",
              "Code District              8\n",
              "District                   8\n",
              "Code Division            166\n",
              "Division                 166\n",
              "Date (YMD)                 0\n",
              "Comments                1222\n",
              "Cause                     21\n",
              "Description of Cause     105\n",
              "Source                    45\n",
              "Magnitude               1354\n",
              "GLIDEnumber             1354\n",
              "Other sectors           1031\n",
              "DataCards                  0\n",
              "Deaths                     0\n",
              "Injured                    0\n",
              "Missing                    0\n",
              "Houses Destroyed           0\n",
              "Houses Damaged             0\n",
              "Victims                    0\n",
              "Affected                   0\n",
              "Relocated                  0\n",
              "Evacuated                  0\n",
              "Losses $USD                0\n",
              "Losses $Local              0\n",
              "Education centers          0\n",
              "Hospitals                  0\n",
              "Damages in crops Ha.       0\n",
              "Lost Cattle                0\n",
              "dtype: int64"
            ]
          },
          "metadata": {},
          "execution_count": 7
        }
      ]
    },
    {
      "cell_type": "code",
      "metadata": {
        "colab": {
          "base_uri": "https://localhost:8080/"
        },
        "id": "w3COQs3EzsI-",
        "outputId": "ea5b5437-877d-48fb-9b97-b2043117c7d7"
      },
      "source": [
        "# Let's also find the total number of missing values in our dataset\n",
        "traffic.isnull().sum().sum()"
      ],
      "execution_count": null,
      "outputs": [
        {
          "output_type": "execute_result",
          "data": {
            "text/plain": [
              "5480"
            ]
          },
          "metadata": {},
          "execution_count": 8
        }
      ]
    },
    {
      "cell_type": "markdown",
      "metadata": {
        "id": "aXhgw0BDVo4i"
      },
      "source": [
        "We have 5480 null values in our data set "
      ]
    },
    {
      "cell_type": "code",
      "metadata": {
        "colab": {
          "base_uri": "https://localhost:8080/"
        },
        "id": "DzNGWqY60Ekk",
        "outputId": "c48bd8b9-f6f3-4b4d-f9ec-eaab5d9edaa3"
      },
      "source": [
        "# We will also identify any duplicates in our dataset \n",
        "traffic.duplicated().sum().any()"
      ],
      "execution_count": null,
      "outputs": [
        {
          "output_type": "execute_result",
          "data": {
            "text/plain": [
              "False"
            ]
          },
          "metadata": {},
          "execution_count": 9
        }
      ]
    },
    {
      "cell_type": "code",
      "metadata": {
        "colab": {
          "base_uri": "https://localhost:8080/"
        },
        "id": "6eEy7ly40YyM",
        "outputId": "54c58217-870f-43a6-cca3-72fd4daddce3"
      },
      "source": [
        "# We will also confirm the total number of duplicates in our dataset, if any\n",
        "traffic.duplicated().sum()"
      ],
      "execution_count": null,
      "outputs": [
        {
          "output_type": "execute_result",
          "data": {
            "text/plain": [
              "0"
            ]
          },
          "metadata": {},
          "execution_count": 10
        }
      ]
    },
    {
      "cell_type": "markdown",
      "metadata": {
        "id": "BoqzclBsVvdL"
      },
      "source": [
        "We have no duplicates in our data set "
      ]
    },
    {
      "cell_type": "code",
      "metadata": {
        "colab": {
          "base_uri": "https://localhost:8080/",
          "height": 372
        },
        "id": "pUtNc2zyTctq",
        "outputId": "510a1857-78d0-4c74-869b-065a6ee96251"
      },
      "source": [
        "# Lets view the dataset's statistical details\n",
        "traffic.describe()"
      ],
      "execution_count": null,
      "outputs": [
        {
          "output_type": "execute_result",
          "data": {
            "text/html": [
              "<div>\n",
              "<style scoped>\n",
              "    .dataframe tbody tr th:only-of-type {\n",
              "        vertical-align: middle;\n",
              "    }\n",
              "\n",
              "    .dataframe tbody tr th {\n",
              "        vertical-align: top;\n",
              "    }\n",
              "\n",
              "    .dataframe thead th {\n",
              "        text-align: right;\n",
              "    }\n",
              "</style>\n",
              "<table border=\"1\" class=\"dataframe\">\n",
              "  <thead>\n",
              "    <tr style=\"text-align: right;\">\n",
              "      <th></th>\n",
              "      <th>Serial</th>\n",
              "      <th>Code County</th>\n",
              "      <th>Code District</th>\n",
              "      <th>Code Division</th>\n",
              "      <th>Magnitude</th>\n",
              "      <th>GLIDEnumber</th>\n",
              "      <th>DataCards</th>\n",
              "      <th>Deaths</th>\n",
              "      <th>Injured</th>\n",
              "      <th>Missing</th>\n",
              "      <th>Houses Destroyed</th>\n",
              "      <th>Houses Damaged</th>\n",
              "      <th>Victims</th>\n",
              "      <th>Affected</th>\n",
              "      <th>Relocated</th>\n",
              "      <th>Evacuated</th>\n",
              "      <th>Losses $USD</th>\n",
              "      <th>Losses $Local</th>\n",
              "      <th>Education centers</th>\n",
              "      <th>Hospitals</th>\n",
              "      <th>Damages in crops Ha.</th>\n",
              "      <th>Lost Cattle</th>\n",
              "    </tr>\n",
              "  </thead>\n",
              "  <tbody>\n",
              "    <tr>\n",
              "      <th>count</th>\n",
              "      <td>1354.000000</td>\n",
              "      <td>1354.000000</td>\n",
              "      <td>1346.000000</td>\n",
              "      <td>1188.000000</td>\n",
              "      <td>0.0</td>\n",
              "      <td>0.0</td>\n",
              "      <td>1354.0</td>\n",
              "      <td>1354.000000</td>\n",
              "      <td>1354.000000</td>\n",
              "      <td>1354.0</td>\n",
              "      <td>1354.000000</td>\n",
              "      <td>1354.000000</td>\n",
              "      <td>1354.0</td>\n",
              "      <td>1354.0</td>\n",
              "      <td>1354.0</td>\n",
              "      <td>1354.0</td>\n",
              "      <td>1354.0</td>\n",
              "      <td>1354.000000</td>\n",
              "      <td>1354.0</td>\n",
              "      <td>1354.0</td>\n",
              "      <td>1354.0</td>\n",
              "      <td>1354.0</td>\n",
              "    </tr>\n",
              "    <tr>\n",
              "      <th>mean</th>\n",
              "      <td>1086.946086</td>\n",
              "      <td>23.130724</td>\n",
              "      <td>2319.628529</td>\n",
              "      <td>236571.090909</td>\n",
              "      <td>NaN</td>\n",
              "      <td>NaN</td>\n",
              "      <td>1.0</td>\n",
              "      <td>1.059084</td>\n",
              "      <td>1.534712</td>\n",
              "      <td>0.0</td>\n",
              "      <td>0.001477</td>\n",
              "      <td>0.000739</td>\n",
              "      <td>0.0</td>\n",
              "      <td>0.0</td>\n",
              "      <td>0.0</td>\n",
              "      <td>0.0</td>\n",
              "      <td>0.0</td>\n",
              "      <td>73.855244</td>\n",
              "      <td>0.0</td>\n",
              "      <td>0.0</td>\n",
              "      <td>0.0</td>\n",
              "      <td>0.0</td>\n",
              "    </tr>\n",
              "    <tr>\n",
              "      <th>std</th>\n",
              "      <td>628.727286</td>\n",
              "      <td>10.403105</td>\n",
              "      <td>1041.215234</td>\n",
              "      <td>104258.347403</td>\n",
              "      <td>NaN</td>\n",
              "      <td>NaN</td>\n",
              "      <td>0.0</td>\n",
              "      <td>1.013316</td>\n",
              "      <td>5.134184</td>\n",
              "      <td>0.0</td>\n",
              "      <td>0.054353</td>\n",
              "      <td>0.027176</td>\n",
              "      <td>0.0</td>\n",
              "      <td>0.0</td>\n",
              "      <td>0.0</td>\n",
              "      <td>0.0</td>\n",
              "      <td>0.0</td>\n",
              "      <td>2717.632126</td>\n",
              "      <td>0.0</td>\n",
              "      <td>0.0</td>\n",
              "      <td>0.0</td>\n",
              "      <td>0.0</td>\n",
              "    </tr>\n",
              "    <tr>\n",
              "      <th>min</th>\n",
              "      <td>11.000000</td>\n",
              "      <td>1.000000</td>\n",
              "      <td>101.000000</td>\n",
              "      <td>10103.000000</td>\n",
              "      <td>NaN</td>\n",
              "      <td>NaN</td>\n",
              "      <td>1.0</td>\n",
              "      <td>0.000000</td>\n",
              "      <td>0.000000</td>\n",
              "      <td>0.0</td>\n",
              "      <td>0.000000</td>\n",
              "      <td>0.000000</td>\n",
              "      <td>0.0</td>\n",
              "      <td>0.0</td>\n",
              "      <td>0.0</td>\n",
              "      <td>0.0</td>\n",
              "      <td>0.0</td>\n",
              "      <td>0.000000</td>\n",
              "      <td>0.0</td>\n",
              "      <td>0.0</td>\n",
              "      <td>0.0</td>\n",
              "      <td>0.0</td>\n",
              "    </tr>\n",
              "    <tr>\n",
              "      <th>25%</th>\n",
              "      <td>527.250000</td>\n",
              "      <td>13.000000</td>\n",
              "      <td>1307.000000</td>\n",
              "      <td>130707.000000</td>\n",
              "      <td>NaN</td>\n",
              "      <td>NaN</td>\n",
              "      <td>1.0</td>\n",
              "      <td>1.000000</td>\n",
              "      <td>0.000000</td>\n",
              "      <td>0.0</td>\n",
              "      <td>0.000000</td>\n",
              "      <td>0.000000</td>\n",
              "      <td>0.0</td>\n",
              "      <td>0.0</td>\n",
              "      <td>0.0</td>\n",
              "      <td>0.0</td>\n",
              "      <td>0.0</td>\n",
              "      <td>0.000000</td>\n",
              "      <td>0.0</td>\n",
              "      <td>0.0</td>\n",
              "      <td>0.0</td>\n",
              "      <td>0.0</td>\n",
              "    </tr>\n",
              "    <tr>\n",
              "      <th>50%</th>\n",
              "      <td>1074.500000</td>\n",
              "      <td>27.000000</td>\n",
              "      <td>2707.000000</td>\n",
              "      <td>280504.000000</td>\n",
              "      <td>NaN</td>\n",
              "      <td>NaN</td>\n",
              "      <td>1.0</td>\n",
              "      <td>1.000000</td>\n",
              "      <td>0.000000</td>\n",
              "      <td>0.0</td>\n",
              "      <td>0.000000</td>\n",
              "      <td>0.000000</td>\n",
              "      <td>0.0</td>\n",
              "      <td>0.0</td>\n",
              "      <td>0.0</td>\n",
              "      <td>0.0</td>\n",
              "      <td>0.0</td>\n",
              "      <td>0.000000</td>\n",
              "      <td>0.0</td>\n",
              "      <td>0.0</td>\n",
              "      <td>0.0</td>\n",
              "      <td>0.0</td>\n",
              "    </tr>\n",
              "    <tr>\n",
              "      <th>75%</th>\n",
              "      <td>1617.750000</td>\n",
              "      <td>30.000000</td>\n",
              "      <td>3001.000000</td>\n",
              "      <td>300107.000000</td>\n",
              "      <td>NaN</td>\n",
              "      <td>NaN</td>\n",
              "      <td>1.0</td>\n",
              "      <td>1.000000</td>\n",
              "      <td>1.000000</td>\n",
              "      <td>0.0</td>\n",
              "      <td>0.000000</td>\n",
              "      <td>0.000000</td>\n",
              "      <td>0.0</td>\n",
              "      <td>0.0</td>\n",
              "      <td>0.0</td>\n",
              "      <td>0.0</td>\n",
              "      <td>0.0</td>\n",
              "      <td>0.000000</td>\n",
              "      <td>0.0</td>\n",
              "      <td>0.0</td>\n",
              "      <td>0.0</td>\n",
              "      <td>0.0</td>\n",
              "    </tr>\n",
              "    <tr>\n",
              "      <th>max</th>\n",
              "      <td>2579.000000</td>\n",
              "      <td>47.000000</td>\n",
              "      <td>4718.000000</td>\n",
              "      <td>471805.000000</td>\n",
              "      <td>NaN</td>\n",
              "      <td>NaN</td>\n",
              "      <td>1.0</td>\n",
              "      <td>16.000000</td>\n",
              "      <td>75.000000</td>\n",
              "      <td>0.0</td>\n",
              "      <td>2.000000</td>\n",
              "      <td>1.000000</td>\n",
              "      <td>0.0</td>\n",
              "      <td>0.0</td>\n",
              "      <td>0.0</td>\n",
              "      <td>0.0</td>\n",
              "      <td>0.0</td>\n",
              "      <td>100000.000000</td>\n",
              "      <td>0.0</td>\n",
              "      <td>0.0</td>\n",
              "      <td>0.0</td>\n",
              "      <td>0.0</td>\n",
              "    </tr>\n",
              "  </tbody>\n",
              "</table>\n",
              "</div>"
            ],
            "text/plain": [
              "            Serial  Code County  ...  Damages in crops Ha.  Lost Cattle\n",
              "count  1354.000000  1354.000000  ...                1354.0       1354.0\n",
              "mean   1086.946086    23.130724  ...                   0.0          0.0\n",
              "std     628.727286    10.403105  ...                   0.0          0.0\n",
              "min      11.000000     1.000000  ...                   0.0          0.0\n",
              "25%     527.250000    13.000000  ...                   0.0          0.0\n",
              "50%    1074.500000    27.000000  ...                   0.0          0.0\n",
              "75%    1617.750000    30.000000  ...                   0.0          0.0\n",
              "max    2579.000000    47.000000  ...                   0.0          0.0\n",
              "\n",
              "[8 rows x 22 columns]"
            ]
          },
          "metadata": {},
          "execution_count": 11
        }
      ]
    },
    {
      "cell_type": "code",
      "metadata": {
        "colab": {
          "base_uri": "https://localhost:8080/"
        },
        "id": "5ClBx1Oe3Mdf",
        "outputId": "88488035-f0de-40c1-d4aa-8a225762d62b"
      },
      "source": [
        "# Let's identify the column names in our dataset\n",
        "traffic.columns"
      ],
      "execution_count": null,
      "outputs": [
        {
          "output_type": "execute_result",
          "data": {
            "text/plain": [
              "Index(['Serial', 'Event', 'Code County', 'County', 'Code District', 'District',\n",
              "       'Code Division', 'Division', 'Date (YMD)', 'Comments', 'Cause',\n",
              "       'Description of Cause', 'Source', 'Magnitude', 'GLIDEnumber',\n",
              "       'Other sectors', 'DataCards', 'Deaths', 'Injured', 'Missing',\n",
              "       'Houses Destroyed', 'Houses Damaged', 'Victims', 'Affected',\n",
              "       'Relocated', 'Evacuated', 'Losses $USD', 'Losses $Local',\n",
              "       'Education centers', 'Hospitals', 'Damages in crops Ha.',\n",
              "       'Lost Cattle'],\n",
              "      dtype='object')"
            ]
          },
          "metadata": {},
          "execution_count": 12
        }
      ]
    },
    {
      "cell_type": "markdown",
      "metadata": {
        "id": "MUVBZahff9H4"
      },
      "source": [
        "#**1.4 Data Cleaning**"
      ]
    },
    {
      "cell_type": "markdown",
      "metadata": {
        "id": "vf_6v-WdF1If"
      },
      "source": [
        "#**Validity**"
      ]
    },
    {
      "cell_type": "code",
      "metadata": {
        "colab": {
          "base_uri": "https://localhost:8080/",
          "height": 452
        },
        "id": "CduAG9rcgEMA",
        "outputId": "7ecd87ec-0f64-4c21-b682-0e67770ffa33"
      },
      "source": [
        "# We will start by deleting any irrelevant columns \n",
        "# We will delete the following columns 'Comments', 'Source', 'Magnitude','GLIDEnumber','Other sectors','DataCards',Code County','Code District','Code Division\n",
        "traffic.drop(['Code County','Code District','Code Division','Comments', 'Source', 'Magnitude','GLIDEnumber','Other sectors','DataCards'], axis=1, inplace=True)\n",
        "# Lets obeserve the changes made\n",
        "traffic.head()"
      ],
      "execution_count": null,
      "outputs": [
        {
          "output_type": "execute_result",
          "data": {
            "text/html": [
              "<div>\n",
              "<style scoped>\n",
              "    .dataframe tbody tr th:only-of-type {\n",
              "        vertical-align: middle;\n",
              "    }\n",
              "\n",
              "    .dataframe tbody tr th {\n",
              "        vertical-align: top;\n",
              "    }\n",
              "\n",
              "    .dataframe thead th {\n",
              "        text-align: right;\n",
              "    }\n",
              "</style>\n",
              "<table border=\"1\" class=\"dataframe\">\n",
              "  <thead>\n",
              "    <tr style=\"text-align: right;\">\n",
              "      <th></th>\n",
              "      <th>Serial</th>\n",
              "      <th>Event</th>\n",
              "      <th>County</th>\n",
              "      <th>District</th>\n",
              "      <th>Division</th>\n",
              "      <th>Date (YMD)</th>\n",
              "      <th>Cause</th>\n",
              "      <th>Description of Cause</th>\n",
              "      <th>Deaths</th>\n",
              "      <th>Injured</th>\n",
              "      <th>Missing</th>\n",
              "      <th>Houses Destroyed</th>\n",
              "      <th>Houses Damaged</th>\n",
              "      <th>Victims</th>\n",
              "      <th>Affected</th>\n",
              "      <th>Relocated</th>\n",
              "      <th>Evacuated</th>\n",
              "      <th>Losses $USD</th>\n",
              "      <th>Losses $Local</th>\n",
              "      <th>Education centers</th>\n",
              "      <th>Hospitals</th>\n",
              "      <th>Damages in crops Ha.</th>\n",
              "      <th>Lost Cattle</th>\n",
              "    </tr>\n",
              "  </thead>\n",
              "  <tbody>\n",
              "    <tr>\n",
              "      <th>0</th>\n",
              "      <td>11</td>\n",
              "      <td>TRAFFIC ACCIDENT</td>\n",
              "      <td>KIAMBU</td>\n",
              "      <td>KIAMBU</td>\n",
              "      <td>LARI</td>\n",
              "      <td>11/09/2011 08:00:00 AM +0000</td>\n",
              "      <td>Error</td>\n",
              "      <td>Pedestrian crossing road</td>\n",
              "      <td>1</td>\n",
              "      <td>0</td>\n",
              "      <td>0</td>\n",
              "      <td>0</td>\n",
              "      <td>0</td>\n",
              "      <td>0</td>\n",
              "      <td>0</td>\n",
              "      <td>0</td>\n",
              "      <td>0</td>\n",
              "      <td>0</td>\n",
              "      <td>0</td>\n",
              "      <td>0</td>\n",
              "      <td>0</td>\n",
              "      <td>0</td>\n",
              "      <td>0</td>\n",
              "    </tr>\n",
              "    <tr>\n",
              "      <th>1</th>\n",
              "      <td>29</td>\n",
              "      <td>TRAFFIC ACCIDENT</td>\n",
              "      <td>NAIROBI</td>\n",
              "      <td>NAIROBI</td>\n",
              "      <td>MAKADARA</td>\n",
              "      <td>01/01/2011 08:00:00 AM +0000</td>\n",
              "      <td>NaN</td>\n",
              "      <td>Hit and run</td>\n",
              "      <td>1</td>\n",
              "      <td>0</td>\n",
              "      <td>0</td>\n",
              "      <td>0</td>\n",
              "      <td>0</td>\n",
              "      <td>0</td>\n",
              "      <td>0</td>\n",
              "      <td>0</td>\n",
              "      <td>0</td>\n",
              "      <td>0</td>\n",
              "      <td>0</td>\n",
              "      <td>0</td>\n",
              "      <td>0</td>\n",
              "      <td>0</td>\n",
              "      <td>0</td>\n",
              "    </tr>\n",
              "    <tr>\n",
              "      <th>2</th>\n",
              "      <td>35</td>\n",
              "      <td>TRAFFIC ACCIDENT</td>\n",
              "      <td>KERICHO</td>\n",
              "      <td>BURET</td>\n",
              "      <td>KONOIN</td>\n",
              "      <td>01/01/2011 08:00:00 AM +0000</td>\n",
              "      <td>Other cause</td>\n",
              "      <td>Driver lost control of the vehicle.</td>\n",
              "      <td>0</td>\n",
              "      <td>14</td>\n",
              "      <td>0</td>\n",
              "      <td>0</td>\n",
              "      <td>0</td>\n",
              "      <td>0</td>\n",
              "      <td>0</td>\n",
              "      <td>0</td>\n",
              "      <td>0</td>\n",
              "      <td>0</td>\n",
              "      <td>0</td>\n",
              "      <td>0</td>\n",
              "      <td>0</td>\n",
              "      <td>0</td>\n",
              "      <td>0</td>\n",
              "    </tr>\n",
              "    <tr>\n",
              "      <th>3</th>\n",
              "      <td>20</td>\n",
              "      <td>TRAFFIC ACCIDENT</td>\n",
              "      <td>MAKUENI</td>\n",
              "      <td>MAKUENI</td>\n",
              "      <td>KASIKEU</td>\n",
              "      <td>01/30/2011 08:00:00 AM +0000</td>\n",
              "      <td>Negligence</td>\n",
              "      <td>Recklessness</td>\n",
              "      <td>0</td>\n",
              "      <td>1</td>\n",
              "      <td>0</td>\n",
              "      <td>0</td>\n",
              "      <td>0</td>\n",
              "      <td>0</td>\n",
              "      <td>0</td>\n",
              "      <td>0</td>\n",
              "      <td>0</td>\n",
              "      <td>0</td>\n",
              "      <td>0</td>\n",
              "      <td>0</td>\n",
              "      <td>0</td>\n",
              "      <td>0</td>\n",
              "      <td>0</td>\n",
              "    </tr>\n",
              "    <tr>\n",
              "      <th>4</th>\n",
              "      <td>36</td>\n",
              "      <td>TRAFFIC ACCIDENT</td>\n",
              "      <td>LAIKIPIA</td>\n",
              "      <td>LAIKIPIA WEST</td>\n",
              "      <td>CENTRAL LAIKIPIA</td>\n",
              "      <td>01/01/2011 08:00:00 AM +0000</td>\n",
              "      <td>Error</td>\n",
              "      <td>Pedal cyclist was knocked down.</td>\n",
              "      <td>1</td>\n",
              "      <td>0</td>\n",
              "      <td>0</td>\n",
              "      <td>0</td>\n",
              "      <td>0</td>\n",
              "      <td>0</td>\n",
              "      <td>0</td>\n",
              "      <td>0</td>\n",
              "      <td>0</td>\n",
              "      <td>0</td>\n",
              "      <td>0</td>\n",
              "      <td>0</td>\n",
              "      <td>0</td>\n",
              "      <td>0</td>\n",
              "      <td>0</td>\n",
              "    </tr>\n",
              "  </tbody>\n",
              "</table>\n",
              "</div>"
            ],
            "text/plain": [
              "   Serial             Event  ... Damages in crops Ha. Lost Cattle\n",
              "0      11  TRAFFIC ACCIDENT  ...                    0           0\n",
              "1      29  TRAFFIC ACCIDENT  ...                    0           0\n",
              "2      35  TRAFFIC ACCIDENT  ...                    0           0\n",
              "3      20  TRAFFIC ACCIDENT  ...                    0           0\n",
              "4      36  TRAFFIC ACCIDENT  ...                    0           0\n",
              "\n",
              "[5 rows x 23 columns]"
            ]
          },
          "metadata": {},
          "execution_count": 13
        }
      ]
    },
    {
      "cell_type": "code",
      "metadata": {
        "colab": {
          "base_uri": "https://localhost:8080/"
        },
        "id": "W0njEKwamsrX",
        "outputId": "eb26288e-c8a5-420c-b06b-8dec27b55984"
      },
      "source": [
        "# Let's confirm the shape of our dataset after dropping the columns above\n",
        "traffic.shape"
      ],
      "execution_count": null,
      "outputs": [
        {
          "output_type": "execute_result",
          "data": {
            "text/plain": [
              "(1354, 23)"
            ]
          },
          "metadata": {},
          "execution_count": 14
        }
      ]
    },
    {
      "cell_type": "code",
      "metadata": {
        "colab": {
          "base_uri": "https://localhost:8080/"
        },
        "id": "W3Lda1195AlV",
        "outputId": "43522f34-405b-42ca-958c-cd3f2e4b6317"
      },
      "source": [
        "# We will remove leading and trailing spaces in our dataset incase there are any\n",
        "traffic['Event']= traffic['Event'].str.strip()\n",
        "traffic['County']= traffic['County'].str.strip()\n",
        "traffic['District']= traffic['District'].str.strip()\n",
        "traffic['Division']= traffic['Division'].str.strip()\n",
        "traffic['Cause']= traffic['Cause'].str.strip()\n",
        "traffic['Description of Cause'].str.strip()\n"
      ],
      "execution_count": null,
      "outputs": [
        {
          "output_type": "execute_result",
          "data": {
            "text/plain": [
              "0                      Pedestrian crossing road\n",
              "1                                   Hit and run\n",
              "2           Driver lost control of the vehicle.\n",
              "3                                  Recklessness\n",
              "4               Pedal cyclist was knocked down.\n",
              "                         ...                   \n",
              "1349                     M/VEHICLE LOST CONTROL\n",
              "1350    MOTOR VEHICLE KNOCKED DOWN A PEDESTRIAN\n",
              "1351    MOTOR VEHICLE KNOCKED DOWN A PEDESTRIAN\n",
              "1352                                        NaN\n",
              "1353                 A LORRY DRIVER HIT A  TREE\n",
              "Name: Description of Cause, Length: 1354, dtype: object"
            ]
          },
          "metadata": {},
          "execution_count": 15
        }
      ]
    },
    {
      "cell_type": "code",
      "metadata": {
        "colab": {
          "base_uri": "https://localhost:8080/",
          "height": 452
        },
        "id": "94N6fYBE6o2T",
        "outputId": "1c7dfbc9-c072-4e38-95fc-aba6de88f989"
      },
      "source": [
        "# Let's confirm the changes in the first 5 rows\n",
        "traffic.head()"
      ],
      "execution_count": null,
      "outputs": [
        {
          "output_type": "execute_result",
          "data": {
            "text/html": [
              "<div>\n",
              "<style scoped>\n",
              "    .dataframe tbody tr th:only-of-type {\n",
              "        vertical-align: middle;\n",
              "    }\n",
              "\n",
              "    .dataframe tbody tr th {\n",
              "        vertical-align: top;\n",
              "    }\n",
              "\n",
              "    .dataframe thead th {\n",
              "        text-align: right;\n",
              "    }\n",
              "</style>\n",
              "<table border=\"1\" class=\"dataframe\">\n",
              "  <thead>\n",
              "    <tr style=\"text-align: right;\">\n",
              "      <th></th>\n",
              "      <th>Serial</th>\n",
              "      <th>Event</th>\n",
              "      <th>County</th>\n",
              "      <th>District</th>\n",
              "      <th>Division</th>\n",
              "      <th>Date (YMD)</th>\n",
              "      <th>Cause</th>\n",
              "      <th>Description of Cause</th>\n",
              "      <th>Deaths</th>\n",
              "      <th>Injured</th>\n",
              "      <th>Missing</th>\n",
              "      <th>Houses Destroyed</th>\n",
              "      <th>Houses Damaged</th>\n",
              "      <th>Victims</th>\n",
              "      <th>Affected</th>\n",
              "      <th>Relocated</th>\n",
              "      <th>Evacuated</th>\n",
              "      <th>Losses $USD</th>\n",
              "      <th>Losses $Local</th>\n",
              "      <th>Education centers</th>\n",
              "      <th>Hospitals</th>\n",
              "      <th>Damages in crops Ha.</th>\n",
              "      <th>Lost Cattle</th>\n",
              "    </tr>\n",
              "  </thead>\n",
              "  <tbody>\n",
              "    <tr>\n",
              "      <th>0</th>\n",
              "      <td>11</td>\n",
              "      <td>TRAFFIC ACCIDENT</td>\n",
              "      <td>KIAMBU</td>\n",
              "      <td>KIAMBU</td>\n",
              "      <td>LARI</td>\n",
              "      <td>11/09/2011 08:00:00 AM +0000</td>\n",
              "      <td>Error</td>\n",
              "      <td>Pedestrian crossing road</td>\n",
              "      <td>1</td>\n",
              "      <td>0</td>\n",
              "      <td>0</td>\n",
              "      <td>0</td>\n",
              "      <td>0</td>\n",
              "      <td>0</td>\n",
              "      <td>0</td>\n",
              "      <td>0</td>\n",
              "      <td>0</td>\n",
              "      <td>0</td>\n",
              "      <td>0</td>\n",
              "      <td>0</td>\n",
              "      <td>0</td>\n",
              "      <td>0</td>\n",
              "      <td>0</td>\n",
              "    </tr>\n",
              "    <tr>\n",
              "      <th>1</th>\n",
              "      <td>29</td>\n",
              "      <td>TRAFFIC ACCIDENT</td>\n",
              "      <td>NAIROBI</td>\n",
              "      <td>NAIROBI</td>\n",
              "      <td>MAKADARA</td>\n",
              "      <td>01/01/2011 08:00:00 AM +0000</td>\n",
              "      <td>NaN</td>\n",
              "      <td>Hit and run</td>\n",
              "      <td>1</td>\n",
              "      <td>0</td>\n",
              "      <td>0</td>\n",
              "      <td>0</td>\n",
              "      <td>0</td>\n",
              "      <td>0</td>\n",
              "      <td>0</td>\n",
              "      <td>0</td>\n",
              "      <td>0</td>\n",
              "      <td>0</td>\n",
              "      <td>0</td>\n",
              "      <td>0</td>\n",
              "      <td>0</td>\n",
              "      <td>0</td>\n",
              "      <td>0</td>\n",
              "    </tr>\n",
              "    <tr>\n",
              "      <th>2</th>\n",
              "      <td>35</td>\n",
              "      <td>TRAFFIC ACCIDENT</td>\n",
              "      <td>KERICHO</td>\n",
              "      <td>BURET</td>\n",
              "      <td>KONOIN</td>\n",
              "      <td>01/01/2011 08:00:00 AM +0000</td>\n",
              "      <td>Other cause</td>\n",
              "      <td>Driver lost control of the vehicle.</td>\n",
              "      <td>0</td>\n",
              "      <td>14</td>\n",
              "      <td>0</td>\n",
              "      <td>0</td>\n",
              "      <td>0</td>\n",
              "      <td>0</td>\n",
              "      <td>0</td>\n",
              "      <td>0</td>\n",
              "      <td>0</td>\n",
              "      <td>0</td>\n",
              "      <td>0</td>\n",
              "      <td>0</td>\n",
              "      <td>0</td>\n",
              "      <td>0</td>\n",
              "      <td>0</td>\n",
              "    </tr>\n",
              "    <tr>\n",
              "      <th>3</th>\n",
              "      <td>20</td>\n",
              "      <td>TRAFFIC ACCIDENT</td>\n",
              "      <td>MAKUENI</td>\n",
              "      <td>MAKUENI</td>\n",
              "      <td>KASIKEU</td>\n",
              "      <td>01/30/2011 08:00:00 AM +0000</td>\n",
              "      <td>Negligence</td>\n",
              "      <td>Recklessness</td>\n",
              "      <td>0</td>\n",
              "      <td>1</td>\n",
              "      <td>0</td>\n",
              "      <td>0</td>\n",
              "      <td>0</td>\n",
              "      <td>0</td>\n",
              "      <td>0</td>\n",
              "      <td>0</td>\n",
              "      <td>0</td>\n",
              "      <td>0</td>\n",
              "      <td>0</td>\n",
              "      <td>0</td>\n",
              "      <td>0</td>\n",
              "      <td>0</td>\n",
              "      <td>0</td>\n",
              "    </tr>\n",
              "    <tr>\n",
              "      <th>4</th>\n",
              "      <td>36</td>\n",
              "      <td>TRAFFIC ACCIDENT</td>\n",
              "      <td>LAIKIPIA</td>\n",
              "      <td>LAIKIPIA WEST</td>\n",
              "      <td>CENTRAL LAIKIPIA</td>\n",
              "      <td>01/01/2011 08:00:00 AM +0000</td>\n",
              "      <td>Error</td>\n",
              "      <td>Pedal cyclist was knocked down.</td>\n",
              "      <td>1</td>\n",
              "      <td>0</td>\n",
              "      <td>0</td>\n",
              "      <td>0</td>\n",
              "      <td>0</td>\n",
              "      <td>0</td>\n",
              "      <td>0</td>\n",
              "      <td>0</td>\n",
              "      <td>0</td>\n",
              "      <td>0</td>\n",
              "      <td>0</td>\n",
              "      <td>0</td>\n",
              "      <td>0</td>\n",
              "      <td>0</td>\n",
              "      <td>0</td>\n",
              "    </tr>\n",
              "  </tbody>\n",
              "</table>\n",
              "</div>"
            ],
            "text/plain": [
              "   Serial             Event  ... Damages in crops Ha. Lost Cattle\n",
              "0      11  TRAFFIC ACCIDENT  ...                    0           0\n",
              "1      29  TRAFFIC ACCIDENT  ...                    0           0\n",
              "2      35  TRAFFIC ACCIDENT  ...                    0           0\n",
              "3      20  TRAFFIC ACCIDENT  ...                    0           0\n",
              "4      36  TRAFFIC ACCIDENT  ...                    0           0\n",
              "\n",
              "[5 rows x 23 columns]"
            ]
          },
          "metadata": {},
          "execution_count": 16
        }
      ]
    },
    {
      "cell_type": "code",
      "metadata": {
        "colab": {
          "base_uri": "https://localhost:8080/",
          "height": 521
        },
        "id": "vS54U77BI2xI",
        "outputId": "ebf0d1f9-23ac-4c2a-eb78-d5336ff944d2"
      },
      "source": [
        "# Let's confirm the changes in the last 5 rows of the dataset\n",
        "traffic.tail()"
      ],
      "execution_count": null,
      "outputs": [
        {
          "output_type": "execute_result",
          "data": {
            "text/html": [
              "<div>\n",
              "<style scoped>\n",
              "    .dataframe tbody tr th:only-of-type {\n",
              "        vertical-align: middle;\n",
              "    }\n",
              "\n",
              "    .dataframe tbody tr th {\n",
              "        vertical-align: top;\n",
              "    }\n",
              "\n",
              "    .dataframe thead th {\n",
              "        text-align: right;\n",
              "    }\n",
              "</style>\n",
              "<table border=\"1\" class=\"dataframe\">\n",
              "  <thead>\n",
              "    <tr style=\"text-align: right;\">\n",
              "      <th></th>\n",
              "      <th>Serial</th>\n",
              "      <th>Event</th>\n",
              "      <th>County</th>\n",
              "      <th>District</th>\n",
              "      <th>Division</th>\n",
              "      <th>Date (YMD)</th>\n",
              "      <th>Cause</th>\n",
              "      <th>Description of Cause</th>\n",
              "      <th>Deaths</th>\n",
              "      <th>Injured</th>\n",
              "      <th>Missing</th>\n",
              "      <th>Houses Destroyed</th>\n",
              "      <th>Houses Damaged</th>\n",
              "      <th>Victims</th>\n",
              "      <th>Affected</th>\n",
              "      <th>Relocated</th>\n",
              "      <th>Evacuated</th>\n",
              "      <th>Losses $USD</th>\n",
              "      <th>Losses $Local</th>\n",
              "      <th>Education centers</th>\n",
              "      <th>Hospitals</th>\n",
              "      <th>Damages in crops Ha.</th>\n",
              "      <th>Lost Cattle</th>\n",
              "    </tr>\n",
              "  </thead>\n",
              "  <tbody>\n",
              "    <tr>\n",
              "      <th>1349</th>\n",
              "      <td>2570</td>\n",
              "      <td>TRAFFIC ACCIDENT</td>\n",
              "      <td>MARSABIT</td>\n",
              "      <td>MARSABIT</td>\n",
              "      <td>NORTH HORR</td>\n",
              "      <td>12/21/2011 08:00:00 AM +0000</td>\n",
              "      <td>Error</td>\n",
              "      <td>M/VEHICLE LOST CONTROL</td>\n",
              "      <td>2</td>\n",
              "      <td>8</td>\n",
              "      <td>0</td>\n",
              "      <td>0</td>\n",
              "      <td>0</td>\n",
              "      <td>0</td>\n",
              "      <td>0</td>\n",
              "      <td>0</td>\n",
              "      <td>0</td>\n",
              "      <td>0</td>\n",
              "      <td>0</td>\n",
              "      <td>0</td>\n",
              "      <td>0</td>\n",
              "      <td>0</td>\n",
              "      <td>0</td>\n",
              "    </tr>\n",
              "    <tr>\n",
              "      <th>1350</th>\n",
              "      <td>2575</td>\n",
              "      <td>TRAFFIC ACCIDENT</td>\n",
              "      <td>NYAMIRA</td>\n",
              "      <td>NYAMIRA</td>\n",
              "      <td>MANGA</td>\n",
              "      <td>12/21/2011 08:00:00 AM +0000</td>\n",
              "      <td>Error</td>\n",
              "      <td>MOTOR VEHICLE KNOCKED DOWN A PEDESTRIAN</td>\n",
              "      <td>1</td>\n",
              "      <td>0</td>\n",
              "      <td>0</td>\n",
              "      <td>0</td>\n",
              "      <td>0</td>\n",
              "      <td>0</td>\n",
              "      <td>0</td>\n",
              "      <td>0</td>\n",
              "      <td>0</td>\n",
              "      <td>0</td>\n",
              "      <td>0</td>\n",
              "      <td>0</td>\n",
              "      <td>0</td>\n",
              "      <td>0</td>\n",
              "      <td>0</td>\n",
              "    </tr>\n",
              "    <tr>\n",
              "      <th>1351</th>\n",
              "      <td>2577</td>\n",
              "      <td>TRAFFIC ACCIDENT</td>\n",
              "      <td>KISII</td>\n",
              "      <td>CENTRAL KISII</td>\n",
              "      <td>KISII TOWNSHIP</td>\n",
              "      <td>12/21/2011 08:00:00 AM +0000</td>\n",
              "      <td>Error</td>\n",
              "      <td>MOTOR VEHICLE KNOCKED DOWN A PEDESTRIAN</td>\n",
              "      <td>1</td>\n",
              "      <td>0</td>\n",
              "      <td>0</td>\n",
              "      <td>0</td>\n",
              "      <td>0</td>\n",
              "      <td>0</td>\n",
              "      <td>0</td>\n",
              "      <td>0</td>\n",
              "      <td>0</td>\n",
              "      <td>0</td>\n",
              "      <td>0</td>\n",
              "      <td>0</td>\n",
              "      <td>0</td>\n",
              "      <td>0</td>\n",
              "      <td>0</td>\n",
              "    </tr>\n",
              "    <tr>\n",
              "      <th>1352</th>\n",
              "      <td>2578</td>\n",
              "      <td>TRAFFIC ACCIDENT</td>\n",
              "      <td>KERICHO</td>\n",
              "      <td>BURET</td>\n",
              "      <td>KONOIN</td>\n",
              "      <td>12/21/2011 08:00:00 AM +0000</td>\n",
              "      <td>Error</td>\n",
              "      <td>NaN</td>\n",
              "      <td>1</td>\n",
              "      <td>0</td>\n",
              "      <td>0</td>\n",
              "      <td>0</td>\n",
              "      <td>0</td>\n",
              "      <td>0</td>\n",
              "      <td>0</td>\n",
              "      <td>0</td>\n",
              "      <td>0</td>\n",
              "      <td>0</td>\n",
              "      <td>0</td>\n",
              "      <td>0</td>\n",
              "      <td>0</td>\n",
              "      <td>0</td>\n",
              "      <td>0</td>\n",
              "    </tr>\n",
              "    <tr>\n",
              "      <th>1353</th>\n",
              "      <td>2579</td>\n",
              "      <td>TRAFFIC ACCIDENT</td>\n",
              "      <td>NAKURU</td>\n",
              "      <td>NAKURU</td>\n",
              "      <td>BAHATI</td>\n",
              "      <td>12/21/2011 08:00:00 AM +0000</td>\n",
              "      <td>Error</td>\n",
              "      <td>A LORRY DRIVER HIT A  TREE</td>\n",
              "      <td>1</td>\n",
              "      <td>0</td>\n",
              "      <td>0</td>\n",
              "      <td>0</td>\n",
              "      <td>0</td>\n",
              "      <td>0</td>\n",
              "      <td>0</td>\n",
              "      <td>0</td>\n",
              "      <td>0</td>\n",
              "      <td>0</td>\n",
              "      <td>0</td>\n",
              "      <td>0</td>\n",
              "      <td>0</td>\n",
              "      <td>0</td>\n",
              "      <td>0</td>\n",
              "    </tr>\n",
              "  </tbody>\n",
              "</table>\n",
              "</div>"
            ],
            "text/plain": [
              "      Serial             Event  ... Damages in crops Ha. Lost Cattle\n",
              "1349    2570  TRAFFIC ACCIDENT  ...                    0           0\n",
              "1350    2575  TRAFFIC ACCIDENT  ...                    0           0\n",
              "1351    2577  TRAFFIC ACCIDENT  ...                    0           0\n",
              "1352    2578  TRAFFIC ACCIDENT  ...                    0           0\n",
              "1353    2579  TRAFFIC ACCIDENT  ...                    0           0\n",
              "\n",
              "[5 rows x 23 columns]"
            ]
          },
          "metadata": {},
          "execution_count": 17
        }
      ]
    },
    {
      "cell_type": "markdown",
      "metadata": {
        "id": "Z4ZBEl_37fwN"
      },
      "source": [
        "#**Completeness**"
      ]
    },
    {
      "cell_type": "code",
      "metadata": {
        "colab": {
          "base_uri": "https://localhost:8080/"
        },
        "id": "-aBvvsZG7fKe",
        "outputId": "96d307c0-8da7-45bf-fbae-45ba9c2a34ab"
      },
      "source": [
        "# Let's confirm the number of columns after we dropped some of our columns\n",
        "traffic.isnull().sum()"
      ],
      "execution_count": null,
      "outputs": [
        {
          "output_type": "execute_result",
          "data": {
            "text/plain": [
              "Serial                    0\n",
              "Event                     0\n",
              "County                    0\n",
              "District                  8\n",
              "Division                166\n",
              "Date (YMD)                0\n",
              "Cause                    21\n",
              "Description of Cause    105\n",
              "Deaths                    0\n",
              "Injured                   0\n",
              "Missing                   0\n",
              "Houses Destroyed          0\n",
              "Houses Damaged            0\n",
              "Victims                   0\n",
              "Affected                  0\n",
              "Relocated                 0\n",
              "Evacuated                 0\n",
              "Losses $USD               0\n",
              "Losses $Local             0\n",
              "Education centers         0\n",
              "Hospitals                 0\n",
              "Damages in crops Ha.      0\n",
              "Lost Cattle               0\n",
              "dtype: int64"
            ]
          },
          "metadata": {},
          "execution_count": 18
        }
      ]
    },
    {
      "cell_type": "code",
      "metadata": {
        "id": "oaesmJ6n-n3I"
      },
      "source": [
        "# The missing information is valuable and inputing the common class would not be appropriate. In such a case we will replace with a value like 'Unknown' or 'Missing'\n",
        "traffic['District']=traffic['District'].fillna('UNKNOWN')\n",
        "traffic['Division']=traffic['Division'].fillna('UNKNOWN')\n",
        "traffic['Cause']=traffic['Cause'].fillna('Missing')\n",
        "traffic['Description of Cause']=traffic['Description of Cause'].fillna('Missing')"
      ],
      "execution_count": null,
      "outputs": []
    },
    {
      "cell_type": "code",
      "metadata": {
        "colab": {
          "base_uri": "https://localhost:8080/",
          "height": 452
        },
        "id": "n8cZCaojTy5l",
        "outputId": "85fca575-87d8-4e7b-ecc8-e686a2ba877f"
      },
      "source": [
        "# Let's confirm the changes made above\n",
        "traffic.head()"
      ],
      "execution_count": null,
      "outputs": [
        {
          "output_type": "execute_result",
          "data": {
            "text/html": [
              "<div>\n",
              "<style scoped>\n",
              "    .dataframe tbody tr th:only-of-type {\n",
              "        vertical-align: middle;\n",
              "    }\n",
              "\n",
              "    .dataframe tbody tr th {\n",
              "        vertical-align: top;\n",
              "    }\n",
              "\n",
              "    .dataframe thead th {\n",
              "        text-align: right;\n",
              "    }\n",
              "</style>\n",
              "<table border=\"1\" class=\"dataframe\">\n",
              "  <thead>\n",
              "    <tr style=\"text-align: right;\">\n",
              "      <th></th>\n",
              "      <th>Serial</th>\n",
              "      <th>Event</th>\n",
              "      <th>County</th>\n",
              "      <th>District</th>\n",
              "      <th>Division</th>\n",
              "      <th>Date (YMD)</th>\n",
              "      <th>Cause</th>\n",
              "      <th>Description of Cause</th>\n",
              "      <th>Deaths</th>\n",
              "      <th>Injured</th>\n",
              "      <th>Missing</th>\n",
              "      <th>Houses Destroyed</th>\n",
              "      <th>Houses Damaged</th>\n",
              "      <th>Victims</th>\n",
              "      <th>Affected</th>\n",
              "      <th>Relocated</th>\n",
              "      <th>Evacuated</th>\n",
              "      <th>Losses $USD</th>\n",
              "      <th>Losses $Local</th>\n",
              "      <th>Education centers</th>\n",
              "      <th>Hospitals</th>\n",
              "      <th>Damages in crops Ha.</th>\n",
              "      <th>Lost Cattle</th>\n",
              "    </tr>\n",
              "  </thead>\n",
              "  <tbody>\n",
              "    <tr>\n",
              "      <th>0</th>\n",
              "      <td>11</td>\n",
              "      <td>TRAFFIC ACCIDENT</td>\n",
              "      <td>KIAMBU</td>\n",
              "      <td>KIAMBU</td>\n",
              "      <td>LARI</td>\n",
              "      <td>11/09/2011 08:00:00 AM +0000</td>\n",
              "      <td>Error</td>\n",
              "      <td>Pedestrian crossing road</td>\n",
              "      <td>1</td>\n",
              "      <td>0</td>\n",
              "      <td>0</td>\n",
              "      <td>0</td>\n",
              "      <td>0</td>\n",
              "      <td>0</td>\n",
              "      <td>0</td>\n",
              "      <td>0</td>\n",
              "      <td>0</td>\n",
              "      <td>0</td>\n",
              "      <td>0</td>\n",
              "      <td>0</td>\n",
              "      <td>0</td>\n",
              "      <td>0</td>\n",
              "      <td>0</td>\n",
              "    </tr>\n",
              "    <tr>\n",
              "      <th>1</th>\n",
              "      <td>29</td>\n",
              "      <td>TRAFFIC ACCIDENT</td>\n",
              "      <td>NAIROBI</td>\n",
              "      <td>NAIROBI</td>\n",
              "      <td>MAKADARA</td>\n",
              "      <td>01/01/2011 08:00:00 AM +0000</td>\n",
              "      <td>Missing</td>\n",
              "      <td>Hit and run</td>\n",
              "      <td>1</td>\n",
              "      <td>0</td>\n",
              "      <td>0</td>\n",
              "      <td>0</td>\n",
              "      <td>0</td>\n",
              "      <td>0</td>\n",
              "      <td>0</td>\n",
              "      <td>0</td>\n",
              "      <td>0</td>\n",
              "      <td>0</td>\n",
              "      <td>0</td>\n",
              "      <td>0</td>\n",
              "      <td>0</td>\n",
              "      <td>0</td>\n",
              "      <td>0</td>\n",
              "    </tr>\n",
              "    <tr>\n",
              "      <th>2</th>\n",
              "      <td>35</td>\n",
              "      <td>TRAFFIC ACCIDENT</td>\n",
              "      <td>KERICHO</td>\n",
              "      <td>BURET</td>\n",
              "      <td>KONOIN</td>\n",
              "      <td>01/01/2011 08:00:00 AM +0000</td>\n",
              "      <td>Other cause</td>\n",
              "      <td>Driver lost control of the vehicle.</td>\n",
              "      <td>0</td>\n",
              "      <td>14</td>\n",
              "      <td>0</td>\n",
              "      <td>0</td>\n",
              "      <td>0</td>\n",
              "      <td>0</td>\n",
              "      <td>0</td>\n",
              "      <td>0</td>\n",
              "      <td>0</td>\n",
              "      <td>0</td>\n",
              "      <td>0</td>\n",
              "      <td>0</td>\n",
              "      <td>0</td>\n",
              "      <td>0</td>\n",
              "      <td>0</td>\n",
              "    </tr>\n",
              "    <tr>\n",
              "      <th>3</th>\n",
              "      <td>20</td>\n",
              "      <td>TRAFFIC ACCIDENT</td>\n",
              "      <td>MAKUENI</td>\n",
              "      <td>MAKUENI</td>\n",
              "      <td>KASIKEU</td>\n",
              "      <td>01/30/2011 08:00:00 AM +0000</td>\n",
              "      <td>Negligence</td>\n",
              "      <td>Recklessness</td>\n",
              "      <td>0</td>\n",
              "      <td>1</td>\n",
              "      <td>0</td>\n",
              "      <td>0</td>\n",
              "      <td>0</td>\n",
              "      <td>0</td>\n",
              "      <td>0</td>\n",
              "      <td>0</td>\n",
              "      <td>0</td>\n",
              "      <td>0</td>\n",
              "      <td>0</td>\n",
              "      <td>0</td>\n",
              "      <td>0</td>\n",
              "      <td>0</td>\n",
              "      <td>0</td>\n",
              "    </tr>\n",
              "    <tr>\n",
              "      <th>4</th>\n",
              "      <td>36</td>\n",
              "      <td>TRAFFIC ACCIDENT</td>\n",
              "      <td>LAIKIPIA</td>\n",
              "      <td>LAIKIPIA WEST</td>\n",
              "      <td>CENTRAL LAIKIPIA</td>\n",
              "      <td>01/01/2011 08:00:00 AM +0000</td>\n",
              "      <td>Error</td>\n",
              "      <td>Pedal cyclist was knocked down.</td>\n",
              "      <td>1</td>\n",
              "      <td>0</td>\n",
              "      <td>0</td>\n",
              "      <td>0</td>\n",
              "      <td>0</td>\n",
              "      <td>0</td>\n",
              "      <td>0</td>\n",
              "      <td>0</td>\n",
              "      <td>0</td>\n",
              "      <td>0</td>\n",
              "      <td>0</td>\n",
              "      <td>0</td>\n",
              "      <td>0</td>\n",
              "      <td>0</td>\n",
              "      <td>0</td>\n",
              "    </tr>\n",
              "  </tbody>\n",
              "</table>\n",
              "</div>"
            ],
            "text/plain": [
              "   Serial             Event  ... Damages in crops Ha. Lost Cattle\n",
              "0      11  TRAFFIC ACCIDENT  ...                    0           0\n",
              "1      29  TRAFFIC ACCIDENT  ...                    0           0\n",
              "2      35  TRAFFIC ACCIDENT  ...                    0           0\n",
              "3      20  TRAFFIC ACCIDENT  ...                    0           0\n",
              "4      36  TRAFFIC ACCIDENT  ...                    0           0\n",
              "\n",
              "[5 rows x 23 columns]"
            ]
          },
          "metadata": {},
          "execution_count": 20
        }
      ]
    },
    {
      "cell_type": "code",
      "metadata": {
        "colab": {
          "base_uri": "https://localhost:8080/"
        },
        "id": "hv35OYBIUHWL",
        "outputId": "58e86c1c-c83e-41d0-fcb2-6209bccb3e32"
      },
      "source": [
        "# Let's confirm if our document has any null values\n",
        "traffic.isnull().sum()"
      ],
      "execution_count": null,
      "outputs": [
        {
          "output_type": "execute_result",
          "data": {
            "text/plain": [
              "Serial                  0\n",
              "Event                   0\n",
              "County                  0\n",
              "District                0\n",
              "Division                0\n",
              "Date (YMD)              0\n",
              "Cause                   0\n",
              "Description of Cause    0\n",
              "Deaths                  0\n",
              "Injured                 0\n",
              "Missing                 0\n",
              "Houses Destroyed        0\n",
              "Houses Damaged          0\n",
              "Victims                 0\n",
              "Affected                0\n",
              "Relocated               0\n",
              "Evacuated               0\n",
              "Losses $USD             0\n",
              "Losses $Local           0\n",
              "Education centers       0\n",
              "Hospitals               0\n",
              "Damages in crops Ha.    0\n",
              "Lost Cattle             0\n",
              "dtype: int64"
            ]
          },
          "metadata": {},
          "execution_count": 21
        }
      ]
    },
    {
      "cell_type": "markdown",
      "metadata": {
        "id": "qeZpuQdIVduN"
      },
      "source": [
        "The dataset now has no null values"
      ]
    },
    {
      "cell_type": "markdown",
      "metadata": {
        "id": "nEnaTlMdW2HD"
      },
      "source": [
        "#**Consistency**"
      ]
    },
    {
      "cell_type": "code",
      "metadata": {
        "colab": {
          "base_uri": "https://localhost:8080/"
        },
        "id": "MFdJxtszUdBu",
        "outputId": "4f7f40d6-8fad-4802-9fa1-0225390c1332"
      },
      "source": [
        "# We had previously identified that our dataset has no duplicates\n",
        "traffic.duplicated().sum()"
      ],
      "execution_count": null,
      "outputs": [
        {
          "output_type": "execute_result",
          "data": {
            "text/plain": [
              "0"
            ]
          },
          "metadata": {},
          "execution_count": 22
        }
      ]
    },
    {
      "cell_type": "markdown",
      "metadata": {
        "id": "MyDorC9NXb8B"
      },
      "source": [
        "#**Uniformity**"
      ]
    },
    {
      "cell_type": "code",
      "metadata": {
        "colab": {
          "base_uri": "https://localhost:8080/",
          "height": 400
        },
        "id": "pY-1id-FYmQb",
        "outputId": "f349ee6d-d4c5-41ae-ec44-ee947fc6c393"
      },
      "source": [
        "# We will convert the 'Date (YMD)' column data type from object to datetime\n",
        "# We will first start by importing datetime module\n",
        "from datetime import datetime\n",
        "traffic['Date (YMD)']=pd.to_datetime(traffic['Date (YMD)'])\n",
        "# Display the dataset to check the changes made\n",
        "traffic.head()"
      ],
      "execution_count": null,
      "outputs": [
        {
          "output_type": "execute_result",
          "data": {
            "text/html": [
              "<div>\n",
              "<style scoped>\n",
              "    .dataframe tbody tr th:only-of-type {\n",
              "        vertical-align: middle;\n",
              "    }\n",
              "\n",
              "    .dataframe tbody tr th {\n",
              "        vertical-align: top;\n",
              "    }\n",
              "\n",
              "    .dataframe thead th {\n",
              "        text-align: right;\n",
              "    }\n",
              "</style>\n",
              "<table border=\"1\" class=\"dataframe\">\n",
              "  <thead>\n",
              "    <tr style=\"text-align: right;\">\n",
              "      <th></th>\n",
              "      <th>Serial</th>\n",
              "      <th>Event</th>\n",
              "      <th>County</th>\n",
              "      <th>District</th>\n",
              "      <th>Division</th>\n",
              "      <th>Date (YMD)</th>\n",
              "      <th>Cause</th>\n",
              "      <th>Description of Cause</th>\n",
              "      <th>Deaths</th>\n",
              "      <th>Injured</th>\n",
              "      <th>Missing</th>\n",
              "      <th>Houses Destroyed</th>\n",
              "      <th>Houses Damaged</th>\n",
              "      <th>Victims</th>\n",
              "      <th>Affected</th>\n",
              "      <th>Relocated</th>\n",
              "      <th>Evacuated</th>\n",
              "      <th>Losses $USD</th>\n",
              "      <th>Losses $Local</th>\n",
              "      <th>Education centers</th>\n",
              "      <th>Hospitals</th>\n",
              "      <th>Damages in crops Ha.</th>\n",
              "      <th>Lost Cattle</th>\n",
              "    </tr>\n",
              "  </thead>\n",
              "  <tbody>\n",
              "    <tr>\n",
              "      <th>0</th>\n",
              "      <td>11</td>\n",
              "      <td>TRAFFIC ACCIDENT</td>\n",
              "      <td>KIAMBU</td>\n",
              "      <td>KIAMBU</td>\n",
              "      <td>LARI</td>\n",
              "      <td>2011-11-09 08:00:00+00:00</td>\n",
              "      <td>Error</td>\n",
              "      <td>Pedestrian crossing road</td>\n",
              "      <td>1</td>\n",
              "      <td>0</td>\n",
              "      <td>0</td>\n",
              "      <td>0</td>\n",
              "      <td>0</td>\n",
              "      <td>0</td>\n",
              "      <td>0</td>\n",
              "      <td>0</td>\n",
              "      <td>0</td>\n",
              "      <td>0</td>\n",
              "      <td>0</td>\n",
              "      <td>0</td>\n",
              "      <td>0</td>\n",
              "      <td>0</td>\n",
              "      <td>0</td>\n",
              "    </tr>\n",
              "    <tr>\n",
              "      <th>1</th>\n",
              "      <td>29</td>\n",
              "      <td>TRAFFIC ACCIDENT</td>\n",
              "      <td>NAIROBI</td>\n",
              "      <td>NAIROBI</td>\n",
              "      <td>MAKADARA</td>\n",
              "      <td>2011-01-01 08:00:00+00:00</td>\n",
              "      <td>Missing</td>\n",
              "      <td>Hit and run</td>\n",
              "      <td>1</td>\n",
              "      <td>0</td>\n",
              "      <td>0</td>\n",
              "      <td>0</td>\n",
              "      <td>0</td>\n",
              "      <td>0</td>\n",
              "      <td>0</td>\n",
              "      <td>0</td>\n",
              "      <td>0</td>\n",
              "      <td>0</td>\n",
              "      <td>0</td>\n",
              "      <td>0</td>\n",
              "      <td>0</td>\n",
              "      <td>0</td>\n",
              "      <td>0</td>\n",
              "    </tr>\n",
              "    <tr>\n",
              "      <th>2</th>\n",
              "      <td>35</td>\n",
              "      <td>TRAFFIC ACCIDENT</td>\n",
              "      <td>KERICHO</td>\n",
              "      <td>BURET</td>\n",
              "      <td>KONOIN</td>\n",
              "      <td>2011-01-01 08:00:00+00:00</td>\n",
              "      <td>Other cause</td>\n",
              "      <td>Driver lost control of the vehicle.</td>\n",
              "      <td>0</td>\n",
              "      <td>14</td>\n",
              "      <td>0</td>\n",
              "      <td>0</td>\n",
              "      <td>0</td>\n",
              "      <td>0</td>\n",
              "      <td>0</td>\n",
              "      <td>0</td>\n",
              "      <td>0</td>\n",
              "      <td>0</td>\n",
              "      <td>0</td>\n",
              "      <td>0</td>\n",
              "      <td>0</td>\n",
              "      <td>0</td>\n",
              "      <td>0</td>\n",
              "    </tr>\n",
              "    <tr>\n",
              "      <th>3</th>\n",
              "      <td>20</td>\n",
              "      <td>TRAFFIC ACCIDENT</td>\n",
              "      <td>MAKUENI</td>\n",
              "      <td>MAKUENI</td>\n",
              "      <td>KASIKEU</td>\n",
              "      <td>2011-01-30 08:00:00+00:00</td>\n",
              "      <td>Negligence</td>\n",
              "      <td>Recklessness</td>\n",
              "      <td>0</td>\n",
              "      <td>1</td>\n",
              "      <td>0</td>\n",
              "      <td>0</td>\n",
              "      <td>0</td>\n",
              "      <td>0</td>\n",
              "      <td>0</td>\n",
              "      <td>0</td>\n",
              "      <td>0</td>\n",
              "      <td>0</td>\n",
              "      <td>0</td>\n",
              "      <td>0</td>\n",
              "      <td>0</td>\n",
              "      <td>0</td>\n",
              "      <td>0</td>\n",
              "    </tr>\n",
              "    <tr>\n",
              "      <th>4</th>\n",
              "      <td>36</td>\n",
              "      <td>TRAFFIC ACCIDENT</td>\n",
              "      <td>LAIKIPIA</td>\n",
              "      <td>LAIKIPIA WEST</td>\n",
              "      <td>CENTRAL LAIKIPIA</td>\n",
              "      <td>2011-01-01 08:00:00+00:00</td>\n",
              "      <td>Error</td>\n",
              "      <td>Pedal cyclist was knocked down.</td>\n",
              "      <td>1</td>\n",
              "      <td>0</td>\n",
              "      <td>0</td>\n",
              "      <td>0</td>\n",
              "      <td>0</td>\n",
              "      <td>0</td>\n",
              "      <td>0</td>\n",
              "      <td>0</td>\n",
              "      <td>0</td>\n",
              "      <td>0</td>\n",
              "      <td>0</td>\n",
              "      <td>0</td>\n",
              "      <td>0</td>\n",
              "      <td>0</td>\n",
              "      <td>0</td>\n",
              "    </tr>\n",
              "  </tbody>\n",
              "</table>\n",
              "</div>"
            ],
            "text/plain": [
              "   Serial             Event  ... Damages in crops Ha. Lost Cattle\n",
              "0      11  TRAFFIC ACCIDENT  ...                    0           0\n",
              "1      29  TRAFFIC ACCIDENT  ...                    0           0\n",
              "2      35  TRAFFIC ACCIDENT  ...                    0           0\n",
              "3      20  TRAFFIC ACCIDENT  ...                    0           0\n",
              "4      36  TRAFFIC ACCIDENT  ...                    0           0\n",
              "\n",
              "[5 rows x 23 columns]"
            ]
          },
          "metadata": {},
          "execution_count": 23
        }
      ]
    },
    {
      "cell_type": "code",
      "metadata": {
        "colab": {
          "base_uri": "https://localhost:8080/"
        },
        "id": "CXtQNtnJaivO",
        "outputId": "2ae8e5fe-9468-45c5-c3ed-fe0251ea4090"
      },
      "source": [
        "# We will also confirm changes in our data type\n",
        "traffic.info()"
      ],
      "execution_count": null,
      "outputs": [
        {
          "output_type": "stream",
          "name": "stdout",
          "text": [
            "<class 'pandas.core.frame.DataFrame'>\n",
            "RangeIndex: 1354 entries, 0 to 1353\n",
            "Data columns (total 23 columns):\n",
            " #   Column                Non-Null Count  Dtype              \n",
            "---  ------                --------------  -----              \n",
            " 0   Serial                1354 non-null   int64              \n",
            " 1   Event                 1354 non-null   object             \n",
            " 2   County                1354 non-null   object             \n",
            " 3   District              1354 non-null   object             \n",
            " 4   Division              1354 non-null   object             \n",
            " 5   Date (YMD)            1354 non-null   datetime64[ns, UTC]\n",
            " 6   Cause                 1354 non-null   object             \n",
            " 7   Description of Cause  1354 non-null   object             \n",
            " 8   Deaths                1354 non-null   int64              \n",
            " 9   Injured               1354 non-null   int64              \n",
            " 10  Missing               1354 non-null   int64              \n",
            " 11  Houses Destroyed      1354 non-null   int64              \n",
            " 12  Houses Damaged        1354 non-null   int64              \n",
            " 13  Victims               1354 non-null   int64              \n",
            " 14  Affected              1354 non-null   int64              \n",
            " 15  Relocated             1354 non-null   int64              \n",
            " 16  Evacuated             1354 non-null   int64              \n",
            " 17  Losses $USD           1354 non-null   int64              \n",
            " 18  Losses $Local         1354 non-null   int64              \n",
            " 19  Education centers     1354 non-null   int64              \n",
            " 20  Hospitals             1354 non-null   int64              \n",
            " 21  Damages in crops Ha.  1354 non-null   int64              \n",
            " 22  Lost Cattle           1354 non-null   int64              \n",
            "dtypes: datetime64[ns, UTC](1), int64(16), object(6)\n",
            "memory usage: 243.4+ KB\n"
          ]
        }
      ]
    },
    {
      "cell_type": "code",
      "metadata": {
        "id": "DiRTrhaebYDN",
        "colab": {
          "base_uri": "https://localhost:8080/",
          "height": 435
        },
        "outputId": "06764c7b-a067-4b51-e94d-4ee8c9d680b2"
      },
      "source": [
        "# We will split the date and time from the datetime column\n",
        "traffic['Date']=pd.to_datetime(traffic['Date (YMD)']).dt.date\n",
        "traffic['Time']=pd.to_datetime(traffic['Date (YMD)']).dt.time\n",
        "# Lets confirm our new column 'Date'\n",
        "traffic.head()"
      ],
      "execution_count": null,
      "outputs": [
        {
          "output_type": "execute_result",
          "data": {
            "text/html": [
              "<div>\n",
              "<style scoped>\n",
              "    .dataframe tbody tr th:only-of-type {\n",
              "        vertical-align: middle;\n",
              "    }\n",
              "\n",
              "    .dataframe tbody tr th {\n",
              "        vertical-align: top;\n",
              "    }\n",
              "\n",
              "    .dataframe thead th {\n",
              "        text-align: right;\n",
              "    }\n",
              "</style>\n",
              "<table border=\"1\" class=\"dataframe\">\n",
              "  <thead>\n",
              "    <tr style=\"text-align: right;\">\n",
              "      <th></th>\n",
              "      <th>Serial</th>\n",
              "      <th>Event</th>\n",
              "      <th>County</th>\n",
              "      <th>District</th>\n",
              "      <th>Division</th>\n",
              "      <th>Date (YMD)</th>\n",
              "      <th>Cause</th>\n",
              "      <th>Description of Cause</th>\n",
              "      <th>Deaths</th>\n",
              "      <th>Injured</th>\n",
              "      <th>Missing</th>\n",
              "      <th>Houses Destroyed</th>\n",
              "      <th>Houses Damaged</th>\n",
              "      <th>Victims</th>\n",
              "      <th>Affected</th>\n",
              "      <th>Relocated</th>\n",
              "      <th>Evacuated</th>\n",
              "      <th>Losses $USD</th>\n",
              "      <th>Losses $Local</th>\n",
              "      <th>Education centers</th>\n",
              "      <th>Hospitals</th>\n",
              "      <th>Damages in crops Ha.</th>\n",
              "      <th>Lost Cattle</th>\n",
              "      <th>Date</th>\n",
              "      <th>Time</th>\n",
              "    </tr>\n",
              "  </thead>\n",
              "  <tbody>\n",
              "    <tr>\n",
              "      <th>0</th>\n",
              "      <td>11</td>\n",
              "      <td>TRAFFIC ACCIDENT</td>\n",
              "      <td>KIAMBU</td>\n",
              "      <td>KIAMBU</td>\n",
              "      <td>LARI</td>\n",
              "      <td>2011-11-09 08:00:00+00:00</td>\n",
              "      <td>Error</td>\n",
              "      <td>Pedestrian crossing road</td>\n",
              "      <td>1</td>\n",
              "      <td>0</td>\n",
              "      <td>0</td>\n",
              "      <td>0</td>\n",
              "      <td>0</td>\n",
              "      <td>0</td>\n",
              "      <td>0</td>\n",
              "      <td>0</td>\n",
              "      <td>0</td>\n",
              "      <td>0</td>\n",
              "      <td>0</td>\n",
              "      <td>0</td>\n",
              "      <td>0</td>\n",
              "      <td>0</td>\n",
              "      <td>0</td>\n",
              "      <td>2011-11-09</td>\n",
              "      <td>08:00:00</td>\n",
              "    </tr>\n",
              "    <tr>\n",
              "      <th>1</th>\n",
              "      <td>29</td>\n",
              "      <td>TRAFFIC ACCIDENT</td>\n",
              "      <td>NAIROBI</td>\n",
              "      <td>NAIROBI</td>\n",
              "      <td>MAKADARA</td>\n",
              "      <td>2011-01-01 08:00:00+00:00</td>\n",
              "      <td>Missing</td>\n",
              "      <td>Hit and run</td>\n",
              "      <td>1</td>\n",
              "      <td>0</td>\n",
              "      <td>0</td>\n",
              "      <td>0</td>\n",
              "      <td>0</td>\n",
              "      <td>0</td>\n",
              "      <td>0</td>\n",
              "      <td>0</td>\n",
              "      <td>0</td>\n",
              "      <td>0</td>\n",
              "      <td>0</td>\n",
              "      <td>0</td>\n",
              "      <td>0</td>\n",
              "      <td>0</td>\n",
              "      <td>0</td>\n",
              "      <td>2011-01-01</td>\n",
              "      <td>08:00:00</td>\n",
              "    </tr>\n",
              "    <tr>\n",
              "      <th>2</th>\n",
              "      <td>35</td>\n",
              "      <td>TRAFFIC ACCIDENT</td>\n",
              "      <td>KERICHO</td>\n",
              "      <td>BURET</td>\n",
              "      <td>KONOIN</td>\n",
              "      <td>2011-01-01 08:00:00+00:00</td>\n",
              "      <td>Other cause</td>\n",
              "      <td>Driver lost control of the vehicle.</td>\n",
              "      <td>0</td>\n",
              "      <td>14</td>\n",
              "      <td>0</td>\n",
              "      <td>0</td>\n",
              "      <td>0</td>\n",
              "      <td>0</td>\n",
              "      <td>0</td>\n",
              "      <td>0</td>\n",
              "      <td>0</td>\n",
              "      <td>0</td>\n",
              "      <td>0</td>\n",
              "      <td>0</td>\n",
              "      <td>0</td>\n",
              "      <td>0</td>\n",
              "      <td>0</td>\n",
              "      <td>2011-01-01</td>\n",
              "      <td>08:00:00</td>\n",
              "    </tr>\n",
              "    <tr>\n",
              "      <th>3</th>\n",
              "      <td>20</td>\n",
              "      <td>TRAFFIC ACCIDENT</td>\n",
              "      <td>MAKUENI</td>\n",
              "      <td>MAKUENI</td>\n",
              "      <td>KASIKEU</td>\n",
              "      <td>2011-01-30 08:00:00+00:00</td>\n",
              "      <td>Negligence</td>\n",
              "      <td>Recklessness</td>\n",
              "      <td>0</td>\n",
              "      <td>1</td>\n",
              "      <td>0</td>\n",
              "      <td>0</td>\n",
              "      <td>0</td>\n",
              "      <td>0</td>\n",
              "      <td>0</td>\n",
              "      <td>0</td>\n",
              "      <td>0</td>\n",
              "      <td>0</td>\n",
              "      <td>0</td>\n",
              "      <td>0</td>\n",
              "      <td>0</td>\n",
              "      <td>0</td>\n",
              "      <td>0</td>\n",
              "      <td>2011-01-30</td>\n",
              "      <td>08:00:00</td>\n",
              "    </tr>\n",
              "    <tr>\n",
              "      <th>4</th>\n",
              "      <td>36</td>\n",
              "      <td>TRAFFIC ACCIDENT</td>\n",
              "      <td>LAIKIPIA</td>\n",
              "      <td>LAIKIPIA WEST</td>\n",
              "      <td>CENTRAL LAIKIPIA</td>\n",
              "      <td>2011-01-01 08:00:00+00:00</td>\n",
              "      <td>Error</td>\n",
              "      <td>Pedal cyclist was knocked down.</td>\n",
              "      <td>1</td>\n",
              "      <td>0</td>\n",
              "      <td>0</td>\n",
              "      <td>0</td>\n",
              "      <td>0</td>\n",
              "      <td>0</td>\n",
              "      <td>0</td>\n",
              "      <td>0</td>\n",
              "      <td>0</td>\n",
              "      <td>0</td>\n",
              "      <td>0</td>\n",
              "      <td>0</td>\n",
              "      <td>0</td>\n",
              "      <td>0</td>\n",
              "      <td>0</td>\n",
              "      <td>2011-01-01</td>\n",
              "      <td>08:00:00</td>\n",
              "    </tr>\n",
              "  </tbody>\n",
              "</table>\n",
              "</div>"
            ],
            "text/plain": [
              "   Serial             Event    County  ... Lost Cattle        Date      Time\n",
              "0      11  TRAFFIC ACCIDENT    KIAMBU  ...           0  2011-11-09  08:00:00\n",
              "1      29  TRAFFIC ACCIDENT   NAIROBI  ...           0  2011-01-01  08:00:00\n",
              "2      35  TRAFFIC ACCIDENT   KERICHO  ...           0  2011-01-01  08:00:00\n",
              "3      20  TRAFFIC ACCIDENT   MAKUENI  ...           0  2011-01-30  08:00:00\n",
              "4      36  TRAFFIC ACCIDENT  LAIKIPIA  ...           0  2011-01-01  08:00:00\n",
              "\n",
              "[5 rows x 25 columns]"
            ]
          },
          "metadata": {},
          "execution_count": 25
        }
      ]
    },
    {
      "cell_type": "code",
      "metadata": {
        "colab": {
          "base_uri": "https://localhost:8080/",
          "height": 281
        },
        "id": "Hc7Zvhk7rJxK",
        "outputId": "600333ed-8e6d-433c-b303-e862a4ca21a8"
      },
      "source": [
        "# Let's check for outliers \n",
        "# Let's start by importing the required library\n",
        "import matplotlib.pyplot as plt \n",
        "# Let's check for outliers in the 'Deaths' column using a boxplot\n",
        "traffic.boxplot(column =['Deaths'], grid = False)\n",
        "plt.title('Deaths Boxplot')\n",
        "plt.show()"
      ],
      "execution_count": null,
      "outputs": [
        {
          "output_type": "display_data",
          "data": {
            "image/png": "[encoded data removed]",
            "text/plain": [
              "<Figure size 432x288 with 1 Axes>"
            ]
          },
          "metadata": {
            "needs_background": "light"
          }
        }
      ]
    },
    {
      "cell_type": "markdown",
      "metadata": {
        "id": "V41rN4Ott7g1"
      },
      "source": [
        "We have outliers in the Deaths column but we  will not delete them because the numbers in this column are random in nature and will depend on the severity of the accidents. It is therefore expected that there will be small and large extremes in the dataset."
      ]
    },
    {
      "cell_type": "code",
      "metadata": {
        "colab": {
          "base_uri": "https://localhost:8080/",
          "height": 299
        },
        "id": "Yzmmdhz1vNGm",
        "outputId": "fb7654a6-24d2-4dee-b8f5-b66ac65ca85a"
      },
      "source": [
        "# Let's check for outliers in the 'Injured' column using a boxplot\n",
        "traffic.boxplot(column =['Injured'], grid = False);\n",
        "plt.title('Injured Boxplot')"
      ],
      "execution_count": null,
      "outputs": [
        {
          "output_type": "execute_result",
          "data": {
            "text/plain": [
              "Text(0.5, 1.0, 'Injured Boxplot')"
            ]
          },
          "metadata": {},
          "execution_count": 27
        },
        {
          "output_type": "display_data",
          "data": {
            "image/png": "[encoded data removed]",
            "text/plain": [
              "<Figure size 432x288 with 1 Axes>"
            ]
          },
          "metadata": {
            "needs_background": "light"
          }
        }
      ]
    },
    {
      "cell_type": "markdown",
      "metadata": {
        "id": "bQqx_2AwveND"
      },
      "source": [
        "We have outliers in the Injured column but we will not delete them because the numbers in this column are random in nature and will depend on the severity of the accidents.\n"
      ]
    },
    {
      "cell_type": "markdown",
      "metadata": {
        "id": "Eb3-0vtcDTan"
      },
      "source": [
        "#**1.5 Data Analysis**"
      ]
    },
    {
      "cell_type": "markdown",
      "metadata": {
        "id": "6gNDQkGCbA7J"
      },
      "source": [
        "#**Answering our research questions**"
      ]
    },
    {
      "cell_type": "markdown",
      "metadata": {
        "id": "-AFTcGWYbRQi"
      },
      "source": [
        "1. Which counties have the highest number of traffic accidents?"
      ]
    },
    {
      "cell_type": "code",
      "metadata": {
        "colab": {
          "base_uri": "https://localhost:8080/"
        },
        "id": "OPaxyNdlbfiH",
        "outputId": "8757d64d-6884-410d-a065-d11bd13b596d"
      },
      "source": [
        "# Counties with the highest number of traffic accidents\n",
        "traffic.groupby(['County']).size().sort_values(ascending=False).head()"
      ],
      "execution_count": null,
      "outputs": [
        {
          "output_type": "execute_result",
          "data": {
            "text/plain": [
              "County\n",
              "NAIROBI     286\n",
              "KIAMBU      141\n",
              "NAKURU      124\n",
              "KAKAMEGA     54\n",
              "MERU         49\n",
              "dtype: int64"
            ]
          },
          "metadata": {},
          "execution_count": 28
        }
      ]
    },
    {
      "cell_type": "markdown",
      "metadata": {
        "id": "0IBFbTrTcmnA"
      },
      "source": [
        "The 5 counties with the highest number of traffic accidents are Nairobi, Kiambu, Nakuru, Kakamega and Meru"
      ]
    },
    {
      "cell_type": "code",
      "metadata": {
        "colab": {
          "base_uri": "https://localhost:8080/",
          "height": 281
        },
        "id": "grub0ZAH827b",
        "outputId": "0e36b7be-c176-49c9-c842-9b2c11acf164"
      },
      "source": [
        "# Let's visualize the above findings\n",
        "t_county=traffic.groupby(['County']).size().sort_values(ascending=False).head()\n",
        "t_county.plot.barh(title='Counties with the Highest Number of Traffic Accidents', ylabel='Totals', xlabel='Counties', figsize=(6,4))\n",
        "plt.show()"
      ],
      "execution_count": null,
      "outputs": [
        {
          "output_type": "display_data",
          "data": {
            "image/png": "[encoded data removed]",
            "text/plain": [
              "<Figure size 432x288 with 1 Axes>"
            ]
          },
          "metadata": {
            "needs_background": "light"
          }
        }
      ]
    },
    {
      "cell_type": "markdown",
      "metadata": {
        "id": "bBGGe9EhdUFm"
      },
      "source": [
        "2. Which districts had the highest number of traffic accidents"
      ]
    },
    {
      "cell_type": "code",
      "metadata": {
        "colab": {
          "base_uri": "https://localhost:8080/"
        },
        "id": "eIQesFgFd6n7",
        "outputId": "45a12a1b-7a11-4c65-c770-c3d1ba3f447c"
      },
      "source": [
        "# Districts with the highest number of traffic accidents\n",
        "traffic.groupby(['District']).size().sort_values(ascending=False).head()"
      ],
      "execution_count": null,
      "outputs": [
        {
          "output_type": "execute_result",
          "data": {
            "text/plain": [
              "District\n",
              "NAIROBI     286\n",
              "NAKURU      123\n",
              "KIAMBU       76\n",
              "THIKA        65\n",
              "MACHAKOS     47\n",
              "dtype: int64"
            ]
          },
          "metadata": {},
          "execution_count": 30
        }
      ]
    },
    {
      "cell_type": "markdown",
      "metadata": {
        "id": "JS4GYCvbeUZJ"
      },
      "source": [
        "The 5 districts with the highest number of traffic accidents are Nairobi, Nakuru, Kiambu, Thika and Machakos"
      ]
    },
    {
      "cell_type": "code",
      "metadata": {
        "colab": {
          "base_uri": "https://localhost:8080/",
          "height": 336
        },
        "id": "0jgsZIOc1LgA",
        "outputId": "16b6840f-8948-454a-9aac-d8f566cc59bb"
      },
      "source": [
        "# Let's visualize the above findings\n",
        "t_district=traffic.groupby(['District']).size().sort_values(ascending=False).head()\n",
        "t_district.plot.barh(title='Districts with the Highest Number of Traffic Accidents', ylabel='Totals', xlabel='Districts', figsize=(6,5))\n",
        "plt.show()"
      ],
      "execution_count": null,
      "outputs": [
        {
          "output_type": "display_data",
          "data": {
            "image/png": "[encoded data removed]",
            "text/plain": [
              "<Figure size 432x360 with 1 Axes>"
            ]
          },
          "metadata": {
            "needs_background": "light"
          }
        }
      ]
    },
    {
      "cell_type": "markdown",
      "metadata": {
        "id": "EjWZbovJibVQ"
      },
      "source": [
        "5. What is the most common cause of traffic accidents"
      ]
    },
    {
      "cell_type": "code",
      "metadata": {
        "colab": {
          "base_uri": "https://localhost:8080/"
        },
        "id": "ZdogKDqgiaWr",
        "outputId": "17ac336f-225a-430c-caa0-e0bec9baa499"
      },
      "source": [
        "# The most common cause of traffic accidents\n",
        "traffic.groupby(['Cause']).size().sort_values(ascending=False).head()"
      ],
      "execution_count": null,
      "outputs": [
        {
          "output_type": "execute_result",
          "data": {
            "text/plain": [
              "Cause\n",
              "Error          924\n",
              "Negligence     254\n",
              "Hit and Run    118\n",
              "Fault           23\n",
              "Missing         21\n",
              "dtype: int64"
            ]
          },
          "metadata": {},
          "execution_count": 32
        }
      ]
    },
    {
      "cell_type": "markdown",
      "metadata": {
        "id": "3sGOpCbijCrG"
      },
      "source": [
        "The most common cause of traffic accidents is error"
      ]
    },
    {
      "cell_type": "code",
      "metadata": {
        "colab": {
          "base_uri": "https://localhost:8080/",
          "height": 336
        },
        "id": "2rP49N6HAmmx",
        "outputId": "4a5ce580-ed30-4a50-b4d6-4480ccf5d21c"
      },
      "source": [
        "# Let's visualize the above findings\n",
        "traffic_cause=traffic.groupby(['Cause']).size().sort_values(ascending=False)\n",
        "traffic_cause.plot.barh(title='Causes of Traffic Accidents', ylabel='Totals', xlabel='Causes', figsize=(6,5))\n",
        "plt.show()"
      ],
      "execution_count": null,
      "outputs": [
        {
          "output_type": "display_data",
          "data": {
            "image/png": "[encoded data removed]",
            "text/plain": [
              "<Figure size 432x360 with 1 Axes>"
            ]
          },
          "metadata": {
            "needs_background": "light"
          }
        }
      ]
    },
    {
      "cell_type": "markdown",
      "metadata": {
        "id": "ejSy_F6uji0e"
      },
      "source": [
        "Which county had they highest number of death caused by traffic accidents?"
      ]
    },
    {
      "cell_type": "code",
      "metadata": {
        "colab": {
          "base_uri": "https://localhost:8080/"
        },
        "id": "0vFUD7xRj0fN",
        "outputId": "07ef36d8-6763-45ec-edec-5ed05f088daf"
      },
      "source": [
        "# County with highest number of death caused by traffic accidents\n",
        "traffic.groupby(['County'])['Deaths'].sum().sort_values(ascending=False).head()"
      ],
      "execution_count": null,
      "outputs": [
        {
          "output_type": "execute_result",
          "data": {
            "text/plain": [
              "County\n",
              "NAIROBI     235\n",
              "NAKURU      148\n",
              "KIAMBU      137\n",
              "MACHAKOS     83\n",
              "MERU         61\n",
              "Name: Deaths, dtype: int64"
            ]
          },
          "metadata": {},
          "execution_count": 34
        }
      ]
    },
    {
      "cell_type": "code",
      "metadata": {
        "colab": {
          "base_uri": "https://localhost:8080/",
          "height": 336
        },
        "id": "1iaui7POBi1k",
        "outputId": "1179d402-0fc9-459e-8bde-ff544d1a7924"
      },
      "source": [
        "# Let's visualize the above findings\n",
        "traffic_death=traffic.groupby(['County'])['Deaths'].sum().sort_values(ascending=False).head()\n",
        "traffic_death.plot.barh(title='Total Number of Deaths in Different Counties', ylabel='Totals', xlabel='Counties', figsize=(6,5))\n",
        "plt.show()"
      ],
      "execution_count": null,
      "outputs": [
        {
          "output_type": "display_data",
          "data": {
            "image/png": "[encoded data removed]",
            "text/plain": [
              "<Figure size 432x360 with 1 Axes>"
            ]
          },
          "metadata": {
            "needs_background": "light"
          }
        }
      ]
    },
    {
      "cell_type": "markdown",
      "metadata": {
        "id": "X_65rP0LlP-o"
      },
      "source": [
        "Which county had they highest number of Injured victims caused by traffic accidents?"
      ]
    },
    {
      "cell_type": "code",
      "metadata": {
        "colab": {
          "base_uri": "https://localhost:8080/"
        },
        "id": "nxYdwYSjlE1-",
        "outputId": "1f017655-130d-4311-d0d0-54485ab5f8b9"
      },
      "source": [
        "# County with the highest number of Injured victims caused by traffic accidents\n",
        "traffic.groupby(['County'])['Injured'].sum().sort_values(ascending=False).head()"
      ],
      "execution_count": null,
      "outputs": [
        {
          "output_type": "execute_result",
          "data": {
            "text/plain": [
              "County\n",
              "KIAMBU         282\n",
              "NAKURU         227\n",
              "MERU           169\n",
              "NAIROBI        143\n",
              "UASIN-GISHU     87\n",
              "Name: Injured, dtype: int64"
            ]
          },
          "metadata": {},
          "execution_count": 36
        }
      ]
    },
    {
      "cell_type": "code",
      "metadata": {
        "colab": {
          "base_uri": "https://localhost:8080/",
          "height": 336
        },
        "id": "zvypcG1PD5Na",
        "outputId": "38a122f7-3838-4963-cf10-f5217a8e7ce1"
      },
      "source": [
        "# Let's visualize the above findings\n",
        "traffic_injured=traffic.groupby(['County'])['Injured'].sum().sort_values(ascending=False).head()\n",
        "traffic_injured.plot.barh(title='Total Number of Injured Persons in Different Counties', ylabel='Totals', xlabel='Counties', figsize=(6,5))\n",
        "plt.show()"
      ],
      "execution_count": null,
      "outputs": [
        {
          "output_type": "display_data",
          "data": {
            "image/png": "[encoded data removed]",
            "text/plain": [
              "<Figure size 432x360 with 1 Axes>"
            ]
          },
          "metadata": {
            "needs_background": "light"
          }
        }
      ]
    },
    {
      "cell_type": "markdown",
      "metadata": {
        "id": "HcbWk4YJ3b7w"
      },
      "source": [
        "Which counties had the least number of traffic accidents?"
      ]
    },
    {
      "cell_type": "code",
      "metadata": {
        "colab": {
          "base_uri": "https://localhost:8080/"
        },
        "id": "NkXt1NvicdL8",
        "outputId": "03a97495-ccd9-46ff-fab0-99bdab2fd393"
      },
      "source": [
        "# Counties with the least number of traffic accidents\n",
        "traffic.groupby(['County']).size().sort_values(ascending=True).head()"
      ],
      "execution_count": null,
      "outputs": [
        {
          "output_type": "execute_result",
          "data": {
            "text/plain": [
              "County\n",
              "SAMBURU    1\n",
              "MANDERA    1\n",
              "LAMU       1\n",
              "TURKANA    2\n",
              "WAJIR      3\n",
              "dtype: int64"
            ]
          },
          "metadata": {},
          "execution_count": 80
        }
      ]
    },
    {
      "cell_type": "markdown",
      "metadata": {
        "id": "9yLo0-Bzc_zj"
      },
      "source": [
        "The 5 counties with the least number of traffic accidents are Samburu, Mandera, Lamu, Turkana and Wajir"
      ]
    },
    {
      "cell_type": "code",
      "metadata": {
        "colab": {
          "base_uri": "https://localhost:8080/",
          "height": 336
        },
        "id": "SL_3qbixEmCP",
        "outputId": "203b48d0-8719-48f7-abc4-7eef7259cd80"
      },
      "source": [
        "# Let's visualize the above findings\n",
        "traffic_least=traffic.groupby(['County']).size().sort_values(ascending=True).head()\n",
        "traffic_least.plot.barh(title='Counties with The Least Number of Traffic Accidents', ylabel='Totals', xlabel='Counties', figsize=(6,5))\n",
        "plt.show()"
      ],
      "execution_count": null,
      "outputs": [
        {
          "output_type": "display_data",
          "data": {
            "image/png": "[encoded data removed]",
            "text/plain": [
              "<Figure size 432x360 with 1 Axes>"
            ]
          },
          "metadata": {
            "needs_background": "light"
          }
        }
      ]
    },
    {
      "cell_type": "markdown",
      "metadata": {
        "id": "gnu8YhZ_3qT0"
      },
      "source": [
        "Which districts had the least number of traffic accidents?"
      ]
    },
    {
      "cell_type": "code",
      "metadata": {
        "colab": {
          "base_uri": "https://localhost:8080/"
        },
        "id": "NvF0Wvw1eOH4",
        "outputId": "b356eafd-0c60-41e0-8a6d-ea7dcbe313e6"
      },
      "source": [
        "# Districts with the least number of traffic accidents\n",
        "traffic.groupby(['District']).size().sort_values(ascending=True).head()"
      ],
      "execution_count": null,
      "outputs": [
        {
          "output_type": "execute_result",
          "data": {
            "text/plain": [
              "District\n",
              "SAMBURU NORTH    1\n",
              "MARSABIT         1\n",
              "MANDERA          1\n",
              "LAMU             1\n",
              "TURKANA          2\n",
              "dtype: int64"
            ]
          },
          "metadata": {},
          "execution_count": 81
        }
      ]
    },
    {
      "cell_type": "markdown",
      "metadata": {
        "id": "t9Q8Z27Cehef"
      },
      "source": [
        "The 5 districts with the least number of traffic accidents are Samburu North, Marsabit, Mandera, Lamu and Turkana"
      ]
    },
    {
      "cell_type": "code",
      "metadata": {
        "colab": {
          "base_uri": "https://localhost:8080/",
          "height": 336
        },
        "id": "fr3P5ImOFk6C",
        "outputId": "cb9d0451-f209-4cc6-bdc5-c891eabbf1ad"
      },
      "source": [
        "# Let's visualize the above findings\n",
        "traffic_ldistrict=traffic.groupby(['District']).size().sort_values(ascending=True).head()\n",
        "traffic_ldistrict.plot.barh(title='District with The Least Number of Traffic Accidents', ylabel='Totals', xlabel='Districts', figsize=(6,5))\n",
        "plt.show()"
      ],
      "execution_count": null,
      "outputs": [
        {
          "output_type": "display_data",
          "data": {
            "image/png": "[encoded data removed]",
            "text/plain": [
              "<Figure size 432x360 with 1 Axes>"
            ]
          },
          "metadata": {
            "needs_background": "light"
          }
        }
      ]
    },
    {
      "cell_type": "markdown",
      "metadata": {
        "id": "rxV4i-Nbe2HE"
      },
      "source": [
        "Which day had the highest number of traffic accidents and whether it corresponds to a national holiday"
      ]
    },
    {
      "cell_type": "code",
      "metadata": {
        "colab": {
          "base_uri": "https://localhost:8080/"
        },
        "id": "TLg7LW1Ce9Bl",
        "outputId": "3ce6099e-9b9b-4bec-a696-c5d09f4c7e79"
      },
      "source": [
        "# The day with the highest numbert of traffic accidents\n",
        "traffic.groupby(['Date']).size().sort_values(ascending=False)"
      ],
      "execution_count": null,
      "outputs": [
        {
          "output_type": "execute_result",
          "data": {
            "text/plain": [
              "Date\n",
              "2011-09-18    12\n",
              "2011-04-21    12\n",
              "2011-10-09    11\n",
              "2011-01-18    11\n",
              "2011-01-15    11\n",
              "              ..\n",
              "2011-07-30     1\n",
              "2011-11-12     1\n",
              "2011-11-11     1\n",
              "2011-10-25     1\n",
              "2011-11-09     1\n",
              "Length: 264, dtype: int64"
            ]
          },
          "metadata": {},
          "execution_count": 82
        }
      ]
    },
    {
      "cell_type": "markdown",
      "metadata": {
        "id": "TO2xvTokfran"
      },
      "source": [
        "The days with the most accidents was the 18th of September 2011 and 21st of April 2011. The 21st of April was the Thursday before the Easter weekend in 2011"
      ]
    },
    {
      "cell_type": "code",
      "metadata": {
        "colab": {
          "base_uri": "https://localhost:8080/",
          "height": 444
        },
        "id": "wdK1WZxQGOsU",
        "outputId": "a8ede16c-f0e7-4283-d18e-633a58e06304"
      },
      "source": [
        "# Let's visualize the above findings\n",
        "traffic_date=traffic.groupby(['Date']).size().sort_values(ascending=False).head(20)\n",
        "traffic_date.plot.barh(title='Total Number of Traffic Accidents that occured across Different Days', ylabel='Totals', xlabel='Dates', figsize=(6,7))\n",
        "plt.show()"
      ],
      "execution_count": null,
      "outputs": [
        {
          "output_type": "display_data",
          "data": {
            "image/png": "[encoded data removed]",
            "text/plain": [
              "<Figure size 432x504 with 1 Axes>"
            ]
          },
          "metadata": {
            "needs_background": "light"
          }
        }
      ]
    },
    {
      "cell_type": "markdown",
      "metadata": {
        "id": "mj13dJgDgOYV"
      },
      "source": [
        "Which county had the most hit and runs?"
      ]
    },
    {
      "cell_type": "code",
      "metadata": {
        "colab": {
          "base_uri": "https://localhost:8080/"
        },
        "id": "bba8NjMFf8LM",
        "outputId": "e8d5fa55-e25e-4f35-c42b-fb5a8a0dfeaf"
      },
      "source": [
        "# The county with the most hit and runs\n",
        "# Begin with creating a new dataframe with only accidents caused by Hit and Run\n",
        "traffic_1=traffic[(traffic['Cause']=='Hit and Run')]\n",
        "# Identify the county with the most hit and runs\n",
        "traffic_1.groupby('County').size().sort_values(ascending=False)"
      ],
      "execution_count": null,
      "outputs": [
        {
          "output_type": "execute_result",
          "data": {
            "text/plain": [
              "County\n",
              "NAIROBI           27\n",
              "KIAMBU            12\n",
              "NAKURU             9\n",
              "KAKAMEGA           9\n",
              "NYERI              6\n",
              "MURANGA            6\n",
              "MERU               6\n",
              "MAKUENI            6\n",
              "KISUMU             4\n",
              "MACHAKOS           3\n",
              "EMBU               3\n",
              "LAIKIPIA           2\n",
              "BUSIA              2\n",
              "GARISSA            2\n",
              "ISIOLO             2\n",
              "KAJIADO            2\n",
              "UASIN-GISHU        2\n",
              "MIGORI             2\n",
              "MOMBASA            2\n",
              "TRANS-NZOIA        1\n",
              "KISII              1\n",
              "KIRINYAGA          1\n",
              "KEIYO-MARAKWET     1\n",
              "NANDI              1\n",
              "NYANDARUA          1\n",
              "HOMABAY            1\n",
              "SIAYA              1\n",
              "TAITA-TAVETA       1\n",
              "TANA-RIVER         1\n",
              "BUNGOMA            1\n",
              "dtype: int64"
            ]
          },
          "metadata": {},
          "execution_count": 57
        }
      ]
    },
    {
      "cell_type": "markdown",
      "metadata": {
        "id": "Jm7NT0o-iSz2"
      },
      "source": [
        "The County with the most hit and runs is Nairobi"
      ]
    },
    {
      "cell_type": "code",
      "metadata": {
        "colab": {
          "base_uri": "https://localhost:8080/",
          "height": 444
        },
        "id": "8hMSMKU4Jf_2",
        "outputId": "bea4d88b-f61a-4222-be48-e3fc554d79fe"
      },
      "source": [
        "# Let's visualize the above findings\n",
        "traffic_hits=traffic_1.groupby('County').size().sort_values(ascending=False)\n",
        "traffic_hits.plot.barh(title='Total Number of Hit and Runs across Different Counties', ylabel='Totals', xlabel='Counties', figsize=(6,7))\n",
        "plt.show()"
      ],
      "execution_count": null,
      "outputs": [
        {
          "output_type": "display_data",
          "data": {
            "image/png": "[encoded data removed]",
            "text/plain": [
              "<Figure size 432x504 with 1 Axes>"
            ]
          },
          "metadata": {
            "needs_background": "light"
          }
        }
      ]
    },
    {
      "cell_type": "markdown",
      "metadata": {
        "id": "ecfdE4-8TKXP"
      },
      "source": [
        "#**1.6 Conclusion**"
      ]
    },
    {
      "cell_type": "markdown",
      "metadata": {
        "id": "ZTpouvuyTUbY"
      },
      "source": [
        "From the analysis above, it shows that most traffic accidents in Kenya are due to human error. This could be caused by making wrong judgements when on the road maybe because of poor visibility and driving while intoxicated. Nairobi is the most dangerous county to be a motorist or a pedestrian as you are more likely to die in a traffic accident than to survive with injuries.\n",
        "Samburu, Lamu and Mandera are the safest counties in Kenya when it comes to traffic accidents. From these findings we can conclude that in high population areas with high vehicular traffic, there is a higher chance of being involved in traffic accidents.\n"
      ]
    },
    {
      "cell_type": "markdown",
      "metadata": {
        "id": "yGLCjgg0Ttmz"
      },
      "source": [
        "#**1.7 Recommendations**"
      ]
    },
    {
      "cell_type": "markdown",
      "metadata": {
        "id": "PT-sZ45fUEqe"
      },
      "source": [
        "1. More traffic officers should be deployed to the \n",
        "accident prone counties of Nairobi, Nakuru and Kiambu. This would deter drivers who are prone to flouting traffic rules which would save more lives.\n",
        "2. NTSA to re-evaluate driving schools in Kenya to ensure the driving certification is up to standard. This would enable them to counter-check that whatever student drivers are being taught is competent and is in line with the highway code of Kenya.\n",
        "3. There is a need to have a national sensitization and an education program on road safety.\n",
        "4. Motorists should be more vigilant when driving during the festive season and national holidays since there is more traffic and thus a higher risk of accidents.\n",
        "5. The NTSA should introduce stiffer penalties to motorists who flout traffic rules in order to curb traffic accidents.\n"
      ]
    }
  ]
}